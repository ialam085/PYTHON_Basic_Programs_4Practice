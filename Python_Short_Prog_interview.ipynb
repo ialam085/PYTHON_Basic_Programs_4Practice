{
 "cells": [
  {
   "cell_type": "markdown",
   "id": "2c0bdff0-16ba-4989-a611-c72a06f8b982",
   "metadata": {},
   "source": [
    "## Program to **Swap** Two Variable"
   ]
  },
  {
   "cell_type": "code",
   "execution_count": 139,
   "id": "50ed828c-b4cd-43ba-b6c6-691fa04c38e7",
   "metadata": {},
   "outputs": [
    {
     "name": "stdin",
     "output_type": "stream",
     "text": [
      "Enter the value of 1st Variable:  234\n",
      "Enter the value of 2nd Variable:  125\n"
     ]
    },
    {
     "name": "stdout",
     "output_type": "stream",
     "text": [
      "Original Values x = 234, y = 125\n",
      "Swapped Values x = 125, y = 234\n"
     ]
    }
   ],
   "source": [
    "x = input(\"Enter the value of 1st Variable: \")\n",
    "y = input(\"Enter the value of 2nd Variable: \")\n",
    "\n",
    "print(f\"Original Values x = {x}, y = {y}\")\n",
    "x, y = y, x\n",
    "\n",
    "print(f\"Swapped Values x = {x}, y = {y}\")"
   ]
  },
  {
   "cell_type": "markdown",
   "id": "24160e10-9c51-4116-873c-8343bfcdb3e7",
   "metadata": {},
   "source": [
    "# Display Calendar"
   ]
  },
  {
   "cell_type": "code",
   "execution_count": 138,
   "id": "1e56abcc-d90f-4004-b174-58e0fdfc505a",
   "metadata": {},
   "outputs": [
    {
     "name": "stdin",
     "output_type": "stream",
     "text": [
      "Enter year:  2024\n",
      "Enter month:  7\n"
     ]
    },
    {
     "name": "stdout",
     "output_type": "stream",
     "text": [
      "\n",
      "     July 2024\n",
      "Mo Tu We Th Fr Sa Su\n",
      " 1  2  3  4  5  6  7\n",
      " 8  9 10 11 12 13 14\n",
      "15 16 17 18 19 20 21\n",
      "22 23 24 25 26 27 28\n",
      "29 30 31\n",
      "\n"
     ]
    }
   ],
   "source": [
    "import calendar\n",
    "year = int(input(\"Enter year: \"))\n",
    "month = int(input(\"Enter month: \"))\n",
    "cal = calendar.month(year, month)\n",
    "\n",
    "print()                               # For space between lines\n",
    "\n",
    "print(cal)"
   ]
  },
  {
   "cell_type": "markdown",
   "id": "47d8082b-2ea1-4e06-9e6a-de2eeb0e32b1",
   "metadata": {},
   "source": [
    "## Program to **Reverse a Number**\n",
    "\n",
    "- #### by **While** Loop"
   ]
  },
  {
   "cell_type": "code",
   "execution_count": 52,
   "id": "f43a1bac-7756-4533-a625-e78152be532e",
   "metadata": {},
   "outputs": [
    {
     "name": "stdin",
     "output_type": "stream",
     "text": [
      "Enter a number:  76549\n"
     ]
    },
    {
     "name": "stdout",
     "output_type": "stream",
     "text": [
      "Reversed number =  94567\n"
     ]
    }
   ],
   "source": [
    "number = int(input(\"Enter a number: \"))\n",
    "rev_n = 0\n",
    "while number > 0:\n",
    "    digit = number % 10\n",
    "    rev_n = rev_n * 10 + digit\n",
    "    number = number // 10\n",
    "print(\"Reversed number = \", rev_n)"
   ]
  },
  {
   "cell_type": "markdown",
   "id": "46957124-374f-49d3-b468-e17828eef0f8",
   "metadata": {},
   "source": [
    "- #### by **For** Loop"
   ]
  },
  {
   "cell_type": "code",
   "execution_count": 78,
   "id": "18e2d384-4cb9-40dd-9932-86ea52906426",
   "metadata": {},
   "outputs": [
    {
     "name": "stdin",
     "output_type": "stream",
     "text": [
      "Enter the Number:  654\n"
     ]
    },
    {
     "name": "stdout",
     "output_type": "stream",
     "text": [
      "Reversed Number: 456\n"
     ]
    }
   ],
   "source": [
    "n = int(input(\"Enter the Number: \"))\n",
    "rn = 0                                # Initialize the reversed number to '0'\n",
    "n_str = str(n)                        # Convert the number to a string to determine its length\n",
    "for i in range(len(n_str)):\n",
    "    digit = n % 10                    # Get the last digit\n",
    "    rn = rn * 10 + digit              # Add it to the reversed number\n",
    "    n = n // 10                       # Remove the last digit from the original number\n",
    "print(\"Reversed Number:\", rn)"
   ]
  },
  {
   "cell_type": "markdown",
   "id": "7b6da115-38b2-4b11-9e1d-3feb57d41b32",
   "metadata": {},
   "source": [
    "- #### by **Slicing**"
   ]
  },
  {
   "cell_type": "code",
   "execution_count": 97,
   "id": "64042bd3-3dee-4c9a-9a87-ae49ecbf8922",
   "metadata": {},
   "outputs": [
    {
     "name": "stdin",
     "output_type": "stream",
     "text": [
      "Enter the number:  7629\n"
     ]
    },
    {
     "name": "stdout",
     "output_type": "stream",
     "text": [
      "Reversed Number:  9267\n",
      "<class 'int'>\n"
     ]
    }
   ],
   "source": [
    "str_num = input(\"Enter the number: \")  # Enter the number, here will store in string type\n",
    "rs = str_num[::-1]                     # Reverse slicing the string type number\n",
    "int_num = int(rs)                      # Covert the string type number into integer\n",
    "print(\"Reversed Number: \", int_num)    # Print the reversed number\n",
    "print(type(int_num))                   # Check the number type (integer)"
   ]
  },
  {
   "cell_type": "markdown",
   "id": "1dc24a12-a577-4d68-826b-c9c666911fe0",
   "metadata": {},
   "source": [
    "## Program to **Reverse a String**"
   ]
  },
  {
   "cell_type": "code",
   "execution_count": 23,
   "id": "e4e440e9-8e1c-42e6-859e-7133660930fd",
   "metadata": {},
   "outputs": [
    {
     "name": "stdin",
     "output_type": "stream",
     "text": [
      "Enter any String:  post\n"
     ]
    },
    {
     "name": "stdout",
     "output_type": "stream",
     "text": [
      "NP\n",
      "Reverse string:  tsop\n"
     ]
    }
   ],
   "source": [
    "string = input(\"Enter any String: \")\n",
    "rs = string[::-1]\n",
    "print(\"Reverse string: \", rs)"
   ]
  },
  {
   "cell_type": "markdown",
   "id": "b733e673-a98a-41b7-a6c6-782eed27e8ac",
   "metadata": {},
   "source": [
    "## Program for **Fibonacci** Series"
   ]
  },
  {
   "cell_type": "code",
   "execution_count": 93,
   "id": "7ca7b4e8-da3e-4bcc-9ba5-d610c2f347f0",
   "metadata": {},
   "outputs": [
    {
     "name": "stdout",
     "output_type": "stream",
     "text": [
      "0 1 1 2 3 5 8 13 21 34 55 89 "
     ]
    }
   ],
   "source": [
    "n= 12                     # initialize the lenght of the series\n",
    "a, b = 0, 1               # initialize forst two numbers\n",
    "print(a, b, end = \" \")    # print first two numbers\n",
    "for i in range(2, n):     # run loop till length of series(n)\n",
    "    a, b = b, a + b       # here 'b' takes the value of 'a + b' every time till loop runs lenght of the series\n",
    "    print(b, end=' ')     # print 'b' till length of series"
   ]
  },
  {
   "cell_type": "markdown",
   "id": "0636caba-ad7c-4dd3-a9c4-db9a17cc89e4",
   "metadata": {},
   "source": [
    "## Program to Find Weather the Number/String is **Palindrome** or Not"
   ]
  },
  {
   "cell_type": "code",
   "execution_count": 197,
   "id": "ebe6cdb4-21dc-439a-88d8-1e5483a77c5d",
   "metadata": {},
   "outputs": [
    {
     "name": "stdin",
     "output_type": "stream",
     "text": [
      "Enter a number AFIFA\n"
     ]
    },
    {
     "name": "stdout",
     "output_type": "stream",
     "text": [
      "Yes its a palindrome\n"
     ]
    }
   ],
   "source": [
    "num_or_str = input(\"Enter a number\")\n",
    "if num_or_str == num_or_str[::-1]:\n",
    "    print(\"Yes its a palindrome\")\n",
    "else:\n",
    "    print(\"No, its not a palindrome\")"
   ]
  },
  {
   "cell_type": "markdown",
   "id": "8446fe4c-5b82-4ce5-a479-79f02b1a8b93",
   "metadata": {},
   "source": [
    "## Program to Find **Prime Numbers** in Given Range"
   ]
  },
  {
   "cell_type": "code",
   "execution_count": 144,
   "id": "0254db27-e595-4f55-8519-a4d68e7b33c2",
   "metadata": {},
   "outputs": [
    {
     "name": "stdin",
     "output_type": "stream",
     "text": [
      "Start of range (should be >=2):  2\n",
      "End of range:  50\n"
     ]
    },
    {
     "name": "stdout",
     "output_type": "stream",
     "text": [
      "Prime numbers between 2 and 50 = 2, 3, 5, 7, 11, 13, 17, 19, 23, 29, 31, 37, 41, 43, 47, \n",
      " Count of prime numbers = 15\n"
     ]
    }
   ],
   "source": [
    "x = int(input(\"Start of range (should be >=2): \"))\n",
    "y = int(input(\"End of range: \"))\n",
    "count = 0\n",
    "print(f\"Prime numbers between {x} and {y} =\", end = ' ')\n",
    "if x >= 2:\n",
    " for i in range(x, y):\n",
    "     for j in range(2, i):\n",
    "        if i % j == 0:\n",
    "         break\n",
    "     else:\n",
    "      print(i, end = ', ')\n",
    "      count += 1\n",
    " print(\"\\n Count of prime numbers =\", count)\n",
    "      "
   ]
  },
  {
   "cell_type": "markdown",
   "id": "cb68ace3-8d1b-4f2f-bcb9-f835e14f2d02",
   "metadata": {},
   "source": [
    "## **Sum** and **Average** of any desired 'n' random numbers"
   ]
  },
  {
   "cell_type": "code",
   "execution_count": 346,
   "id": "3208a740-bcbd-4974-a92d-6eac5aa8356c",
   "metadata": {},
   "outputs": [
    {
     "name": "stdin",
     "output_type": "stream",
     "text": [
      "Enter the count:  3\n",
      "Enter the numbers:  65\n",
      "Enter the numbers:  78\n",
      "Enter the numbers:  36\n"
     ]
    },
    {
     "name": "stdout",
     "output_type": "stream",
     "text": [
      "Sum of all numbers =  36.0\n",
      "Average of numbers = 12.00\n"
     ]
    }
   ],
   "source": [
    "Sum = 0\n",
    "count = int(input(\"Enter the count: \"))\n",
    "\n",
    "for i in range(count):\n",
    " num = float(input(\"Enter the numbers: \"))\n",
    "Sum = Sum + num\n",
    "avg = Sum/count\n",
    "print(\"Sum of all numbers = \",Sum)\n",
    "print(f\"Average of numbers = {avg:.2f}\")"
   ]
  },
  {
   "cell_type": "markdown",
   "id": "9b5dfb4a-44e2-4558-9d51-2a59fd5ccd96",
   "metadata": {},
   "source": [
    "## Program to Find Weather the given Number is **Prime Number** or Not"
   ]
  },
  {
   "cell_type": "code",
   "execution_count": 193,
   "id": "a4b13423-2cbc-4d99-b158-11b5acf71ff0",
   "metadata": {},
   "outputs": [
    {
     "name": "stdin",
     "output_type": "stream",
     "text": [
      "Enter a number:  98\n"
     ]
    },
    {
     "name": "stdout",
     "output_type": "stream",
     "text": [
      "98  is not a Prime number\n"
     ]
    }
   ],
   "source": [
    "x = int(input(\"Enter a number: \"))\n",
    "if x >= 2:\n",
    " for i in range(2, x):\n",
    "      if x % i == 0:\n",
    "         print(x, \" is not a Prime number\")\n",
    "         break\n",
    " else:\n",
    "    print(x, \" is a Prime number\")"
   ]
  },
  {
   "cell_type": "markdown",
   "id": "f6450e31-8b14-40d9-86dc-fa563e06b133",
   "metadata": {},
   "source": [
    "## Program to find **Factorial** of a Number"
   ]
  },
  {
   "cell_type": "code",
   "execution_count": 132,
   "id": "ad891b44-491c-4fd0-927d-0ba0fc6e2a0d",
   "metadata": {},
   "outputs": [
    {
     "name": "stdin",
     "output_type": "stream",
     "text": [
      "Enter Factorial:  5\n"
     ]
    },
    {
     "name": "stdout",
     "output_type": "stream",
     "text": [
      "Factorial of - 1x2x3x.....x5 = 120\n"
     ]
    }
   ],
   "source": [
    "x = int(input(\"Enter Factorial: \"))\n",
    "fact = 1\n",
    "for i in range(1, x + 1):\n",
    "  fact = fact*i\n",
    "print(f\"Factorial of - 1x2x3x.....x{x} = {fact}\")"
   ]
  },
  {
   "cell_type": "markdown",
   "id": "74b9886b-7621-44bb-8139-39a8db950663",
   "metadata": {},
   "source": [
    "## Sum of the **Series**"
   ]
  },
  {
   "cell_type": "code",
   "execution_count": 255,
   "id": "7b59f9c1-f477-4290-9419-4951930d5204",
   "metadata": {},
   "outputs": [
    {
     "name": "stdin",
     "output_type": "stream",
     "text": [
      "Enter Range:  12\n"
     ]
    },
    {
     "name": "stdout",
     "output_type": "stream",
     "text": [
      "Sum of series - 1+2+3+.....+12 = 78\n"
     ]
    }
   ],
   "source": [
    "x = int(input(\"Enter Range: \"))\n",
    "Sum = 0\n",
    "for i in range(1, x+1):\n",
    " Sum = Sum + i\n",
    "print(f\"Sum of series - 1+2+3+.....+{x} = {Sum}\")"
   ]
  },
  {
   "cell_type": "markdown",
   "id": "4bffa1d0-09be-4219-9388-ee47395bb1cb",
   "metadata": {},
   "source": [
    "## Program to Check Number is **Armstrong** Number"
   ]
  },
  {
   "cell_type": "code",
   "execution_count": 364,
   "id": "d3faf408-46cb-4a88-91b0-170b927e4f2a",
   "metadata": {},
   "outputs": [
    {
     "name": "stdin",
     "output_type": "stream",
     "text": [
      "Enter a number:  4563\n"
     ]
    },
    {
     "name": "stdout",
     "output_type": "stream",
     "text": [
      "4563 is not an Armstrong number\n"
     ]
    }
   ],
   "source": [
    "num = int(input(\"Enter a number: \"))\n",
    "Sum = 0\n",
    "\n",
    "temp = num\n",
    "while temp > 0:\n",
    "   digit = temp % 10\n",
    "   Sum += digit ** 3                          # find the sum of the cube of each digit\n",
    "   temp //= 10\n",
    "\n",
    "if num == Sum:                                # display the result\n",
    "   print(num,\"is an Armstrong number\")\n",
    "else:\n",
    "   print(num,\"is not an Armstrong number\")"
   ]
  },
  {
   "cell_type": "markdown",
   "id": "de67af8c-1141-4978-bf82-62be16e0c499",
   "metadata": {},
   "source": [
    "## Program to Count Number of digits in a Number"
   ]
  },
  {
   "cell_type": "code",
   "execution_count": 19,
   "id": "65480d5b-438b-40ad-b253-156712fc11f1",
   "metadata": {},
   "outputs": [
    {
     "name": "stdin",
     "output_type": "stream",
     "text": [
      "Enter a number:  6703\n"
     ]
    },
    {
     "name": "stdout",
     "output_type": "stream",
     "text": [
      "Number of digits: 4\n"
     ]
    }
   ],
   "source": [
    "number = int(input(\"Enter a number: \"))\n",
    "digit_count = str(number)\n",
    "print(\"Number of digits:\", len(digit_count))"
   ]
  },
  {
   "cell_type": "markdown",
   "id": "cc62c36f-e731-4be3-ac41-59780bf1e0c6",
   "metadata": {},
   "source": [
    "## Program to Count Number of Even and Odd Digits in a Number"
   ]
  },
  {
   "cell_type": "code",
   "execution_count": 17,
   "id": "ffad1a17-d0b3-45cb-ae3c-f8abca323352",
   "metadata": {},
   "outputs": [
    {
     "name": "stdin",
     "output_type": "stream",
     "text": [
      "Enter a number:  875093\n"
     ]
    },
    {
     "name": "stdout",
     "output_type": "stream",
     "text": [
      "Even digits: 2\n",
      "Odd digits: 4\n"
     ]
    }
   ],
   "source": [
    "number = input(\"Enter a number: \")\n",
    "even_count = 0\n",
    "odd_count = 0\n",
    "for digit in(number):\n",
    "    if int(digit) % 2 == 0:\n",
    "        even_count += 1\n",
    "    else:\n",
    "        odd_count += 1\n",
    "print(\"Even digits:\", even_count)\n",
    "print(\"Odd digits:\", odd_count)"
   ]
  },
  {
   "cell_type": "markdown",
   "id": "d4c14311-612e-412f-ab07-d64f3b9f526e",
   "metadata": {},
   "source": [
    "## Program to Find Number is **Even** or **Odd**"
   ]
  },
  {
   "cell_type": "code",
   "execution_count": 32,
   "id": "4d095908-7e3f-4c03-9ec1-0b600619e23d",
   "metadata": {},
   "outputs": [
    {
     "name": "stdin",
     "output_type": "stream",
     "text": [
      "Enter a number 65\n"
     ]
    },
    {
     "name": "stdout",
     "output_type": "stream",
     "text": [
      "Number (65) is odd\n"
     ]
    }
   ],
   "source": [
    "number = int(input(\"Enter a number\"))\n",
    "if number % 2 == 0:\n",
    "    print(f\"Number ({number}) is even\")\n",
    "else:\n",
    "    print(f\"Number ({number}) is odd\")"
   ]
  },
  {
   "cell_type": "markdown",
   "id": "9a2c4710-0c84-48d7-a844-8f9e04c7c460",
   "metadata": {},
   "source": [
    "## Program to Find **Sum of Digits** in a Number\n",
    "\n",
    "- #### by **For** Loop (method - 1)"
   ]
  },
  {
   "cell_type": "code",
   "execution_count": 66,
   "id": "e917c6e8-468f-4d59-99b9-c0ec5fbaafd1",
   "metadata": {},
   "outputs": [
    {
     "name": "stdin",
     "output_type": "stream",
     "text": [
      "Enter a number:  8736\n"
     ]
    },
    {
     "name": "stdout",
     "output_type": "stream",
     "text": [
      "24\n"
     ]
    }
   ],
   "source": [
    "number = input(\"Enter a number: \")\n",
    "sum_dig = 0\n",
    "for digit in(number):\n",
    "   sum_dig = sum_dig + int(digit)\n",
    "print(sum_dig)"
   ]
  },
  {
   "cell_type": "markdown",
   "id": "85201346-e6d9-4345-9d3a-754d78a17838",
   "metadata": {},
   "source": [
    "- #### by **For** Loop (method - 2)"
   ]
  },
  {
   "cell_type": "code",
   "execution_count": 151,
   "id": "af2b9e76-115c-4705-9d5a-71f74c622e35",
   "metadata": {},
   "outputs": [
    {
     "name": "stdin",
     "output_type": "stream",
     "text": [
      "Enter a number:  654\n"
     ]
    },
    {
     "name": "stdout",
     "output_type": "stream",
     "text": [
      "Sum of Digits =  15\n"
     ]
    }
   ],
   "source": [
    "number = int(input(\"Enter a number: \"))\n",
    "sum_dig = 0\n",
    "for digit in (str(number)):\n",
    "    digit = number % 10\n",
    "    sum_dig = sum_dig + digit\n",
    "    number = number // 10\n",
    "print(f\"Sum of Digits =  {sum_dig}\")"
   ]
  },
  {
   "cell_type": "markdown",
   "id": "835478c1-1913-4b6c-839b-467220be1a8b",
   "metadata": {},
   "source": [
    "- #### by **while** Loop"
   ]
  },
  {
   "cell_type": "code",
   "execution_count": 208,
   "id": "825474c2-c42a-4152-8217-4aa5aba15883",
   "metadata": {},
   "outputs": [
    {
     "name": "stdin",
     "output_type": "stream",
     "text": [
      "Enter a number:  9856\n"
     ]
    },
    {
     "name": "stdout",
     "output_type": "stream",
     "text": [
      "Sum of Digits =  28\n"
     ]
    }
   ],
   "source": [
    "number = int(input(\"Enter a number: \"))\n",
    "sum_dig = 0\n",
    "while number > 0:\n",
    "    digit = number % 10\n",
    "    sum_dig = sum_dig + digit\n",
    "    number = number // 10\n",
    "print(f\"Sum of Digits =  {sum_dig}\")"
   ]
  },
  {
   "cell_type": "markdown",
   "id": "47932fa3-a650-4246-aeb2-906d3c97087a",
   "metadata": {},
   "source": [
    "## Program to Find the **Largest Number**\n",
    "\n",
    "- ### by **List**"
   ]
  },
  {
   "cell_type": "code",
   "execution_count": 198,
   "id": "012c1275-f575-441f-9fa6-4885fad0978e",
   "metadata": {},
   "outputs": [
    {
     "name": "stdin",
     "output_type": "stream",
     "text": [
      "Enter number of elements :  5\n",
      " 43\n",
      " 65\n",
      " 78\n",
      " 43\n",
      " 56\n"
     ]
    },
    {
     "name": "stdout",
     "output_type": "stream",
     "text": [
      "Largest number is:  78\n"
     ]
    }
   ],
   "source": [
    "mylist = []                                     # creating an empty list\n",
    "n = int(input(\"Enter number of elements : \"))   # number of elements as input\n",
    "for i in range(0, n):                           # iterating till the range\n",
    "\telements = int(input())                     # adding the element\n",
    "\tmylist.append(elements)\n",
    "print(\"Largest number is: \", max(mylist))"
   ]
  },
  {
   "cell_type": "markdown",
   "id": "c24db533-0323-41f9-8b6e-831dec8399bd",
   "metadata": {},
   "source": [
    "- ### by User input"
   ]
  },
  {
   "cell_type": "code",
   "execution_count": 196,
   "id": "b2b4648f-115a-4bac-af61-eb63cabc9fb7",
   "metadata": {},
   "outputs": [
    {
     "name": "stdin",
     "output_type": "stream",
     "text": [
      "Enter 1st number:  45\n",
      "Enter 2nd number:  78\n",
      "Enter 3rd number:  93\n"
     ]
    },
    {
     "name": "stdout",
     "output_type": "stream",
     "text": [
      "Largest number is: 93\n"
     ]
    }
   ],
   "source": [
    "a = int(input(\"Enter 1st number: \"))\n",
    "b = int(input(\"Enter 2nd number: \"))\n",
    "c = int(input(\"Enter 3rd number: \"))\n",
    "if a > b and a > c:\n",
    "    print(f\"Largest number is: {a}\")\n",
    "elif b > c:\n",
    "    print(f\"Largest number is: {b}\")\n",
    "else:\n",
    "    print(f\"Largest number is: {c}\")"
   ]
  },
  {
   "cell_type": "markdown",
   "id": "b165fe97-fa1c-4ca2-a582-f1978ce47428",
   "metadata": {},
   "source": [
    "## Program to Find the Largest and Smallest digit in a number"
   ]
  },
  {
   "cell_type": "code",
   "execution_count": 355,
   "id": "049b06bd-d5d0-4643-a0ca-b6b9b4329700",
   "metadata": {},
   "outputs": [
    {
     "name": "stdin",
     "output_type": "stream",
     "text": [
      "Enter number:  5903\n"
     ]
    },
    {
     "name": "stdout",
     "output_type": "stream",
     "text": [
      "5  9  0  3  \n",
      "List of digits:  ['5', '9', '0', '3']\n",
      "Smallest digit is : 0\n",
      "Largest digit is : 9\n"
     ]
    }
   ],
   "source": [
    "mylist = []\n",
    "num = input(\"Enter number: \")\n",
    "for i in(num):\n",
    " print(i, end = '  ')\n",
    " mylist.append(i)\n",
    "print(\"\\nList of digits: \", mylist)\n",
    "print(\"Smallest digit is :\", min(mylist))\n",
    "print(\"Largest digit is :\", max(mylist))"
   ]
  },
  {
   "cell_type": "markdown",
   "id": "777b7c9e-8349-4a5b-9867-c37fadafbf93",
   "metadata": {},
   "source": [
    "## Program to Generate Random Number and String\n",
    "\n",
    "- ### Random Number"
   ]
  },
  {
   "cell_type": "code",
   "execution_count": 294,
   "id": "44d8fa59-5ec9-4739-8bf0-d15d6df8b8aa",
   "metadata": {},
   "outputs": [
    {
     "name": "stdout",
     "output_type": "stream",
     "text": [
      "4\n",
      "6\n",
      "2\n",
      "10\n",
      "3\n"
     ]
    }
   ],
   "source": [
    "import random\n",
    "\n",
    "for i in range(5):\n",
    " randnum = random.randint(1, 11)   # OR randnum = random.randrange(1, 11)\n",
    " \n",
    " print(randnum)"
   ]
  },
  {
   "cell_type": "markdown",
   "id": "fab95df2-82eb-4d31-9e48-34ad47cd7b9a",
   "metadata": {},
   "source": [
    "- ### Random Letter"
   ]
  },
  {
   "cell_type": "code",
   "execution_count": 289,
   "id": "e4a80f80-2786-4383-bbcf-255ff5bfc3ab",
   "metadata": {},
   "outputs": [
    {
     "name": "stdout",
     "output_type": "stream",
     "text": [
      "Random letter: L\n",
      "Random letter: H\n",
      "Random letter: x\n",
      "Random letter: p\n",
      "Random letter: I\n"
     ]
    }
   ],
   "source": [
    "import random\n",
    "import string\n",
    "\n",
    "for i in range(5):\n",
    " ranletter = random.choice(string.ascii_letters)\n",
    "\n",
    " print(\"Random letter:\", ranletter)"
   ]
  },
  {
   "cell_type": "markdown",
   "id": "0adbf461-d7ab-454e-ae35-b053e264d42f",
   "metadata": {},
   "source": [
    "- ### Random String"
   ]
  },
  {
   "cell_type": "code",
   "execution_count": 278,
   "id": "9f26ee92-41c9-4a9e-8e74-8a408138615b",
   "metadata": {},
   "outputs": [
    {
     "name": "stdin",
     "output_type": "stream",
     "text": [
      "Enter the number of random letters:  4\n"
     ]
    },
    {
     "name": "stdout",
     "output_type": "stream",
     "text": [
      "Random letters: PIlQ\n"
     ]
    }
   ],
   "source": [
    "import random\n",
    "import string\n",
    "\n",
    "# Specify the number of random letters to generate\n",
    "num_letters = int(input(\"Enter the number of random letters: \"))\n",
    "\n",
    "# Generate the specified number of random letters\n",
    "random_letters = ''.join(random.choice(string.ascii_letters) for i in range(num_letters))\n",
    "\n",
    "print(\"Random letters:\", random_letters)"
   ]
  },
  {
   "cell_type": "markdown",
   "id": "25b5cfa8-1541-415d-9f58-39ee6f926e2a",
   "metadata": {},
   "source": [
    "## Program to find the Sum of Elements in Array\n",
    "\n",
    "- ### Method-1"
   ]
  },
  {
   "cell_type": "code",
   "execution_count": 3,
   "id": "ee997741-69cc-401e-98c9-08ddbddd03f3",
   "metadata": {},
   "outputs": [
    {
     "name": "stdin",
     "output_type": "stream",
     "text": [
      "Enter numbers separated by spaces:  65 78 32 90 67 83\n"
     ]
    },
    {
     "name": "stdout",
     "output_type": "stream",
     "text": [
      "Array : [65, 78, 32, 90, 67, 83]\n",
      "Sum of the array is: 179\n"
     ]
    }
   ],
   "source": [
    "x = input(\"Enter numbers separated by spaces: \")\n",
    "y = x.split()\n",
    "z = map(int, y)\n",
    "arr = list(z)\n",
    "tot_sum = sum(arr)\n",
    "\n",
    "print(\"Array :\", arr)\n",
    "print(\"Sum of the array is:\", total_sum)"
   ]
  },
  {
   "cell_type": "markdown",
   "id": "a3ff8b47-ee83-4534-8674-1fa2ed910a05",
   "metadata": {},
   "source": [
    "- ### Method-2"
   ]
  },
  {
   "cell_type": "code",
   "execution_count": 5,
   "id": "922ffe55-7e02-4090-930e-84cbf0eae7f6",
   "metadata": {},
   "outputs": [
    {
     "name": "stdin",
     "output_type": "stream",
     "text": [
      "Enter numbers separated by spaces:  54 67 34 92\n"
     ]
    },
    {
     "name": "stdout",
     "output_type": "stream",
     "text": [
      "Array:  [54, 67, 34, 92]\n",
      "Sum of the array is: 247\n"
     ]
    }
   ],
   "source": [
    "\n",
    "arr = list(map(int, input(\"Enter numbers separated by spaces: \").split()))  # Get input from the user as a list of numbers\n",
    "                                                                            # (converted from string to integers)\n",
    "total_sum = sum(arr)                                                        # Calculate the sum of elements in the array\n",
    "\n",
    "print(\"Array: \", arr)\n",
    "print(\"Sum of the array is:\", total_sum)                                    # Print the sum of the array elements"
   ]
  },
  {
   "cell_type": "markdown",
   "id": "db21165f-40d3-4515-8671-f6cbf7b20843",
   "metadata": {},
   "source": [
    "## Program to Print **Even** and **Odd** Numbers in Array"
   ]
  },
  {
   "cell_type": "code",
   "execution_count": 2,
   "id": "3dce38ca-3c3b-426e-8da1-8b072bef2a84",
   "metadata": {},
   "outputs": [
    {
     "name": "stdin",
     "output_type": "stream",
     "text": [
      "Enter numbers separated by spaces:  23 45 68 70 29 44 502 17 422\n"
     ]
    },
    {
     "name": "stdout",
     "output_type": "stream",
     "text": [
      "Even Numbers:  68 70 44 502 422 \n",
      "Odd Numbers:  23 45 29 17 "
     ]
    }
   ],
   "source": [
    "x = input(\"Enter numbers separated by spaces: \")\n",
    "y = x.split()\n",
    "z = map(int, y)\n",
    "arr = list(z)\n",
    "\n",
    "print(\"Even Numbers: \", end=' ')\n",
    "for i in arr:\n",
    "    if i % 2 == 0:\n",
    "        print(i, end=' ')\n",
    "print()\n",
    "\n",
    "print(\"Odd Numbers: \", end=' ')\n",
    "for j in arr:\n",
    "    if j % 2 != 0:\n",
    "        print(j, end=' ')"
   ]
  },
  {
   "cell_type": "markdown",
   "id": "6a41a09e-3b3e-4ed7-ba87-9bdb80b40dcc",
   "metadata": {},
   "source": [
    "## Program to Check 2 Arrays are **Equal** or **Not**"
   ]
  },
  {
   "cell_type": "code",
   "execution_count": 13,
   "id": "c2e7e5fc-e9db-4141-8d28-cda7098c1f80",
   "metadata": {},
   "outputs": [
    {
     "name": "stdin",
     "output_type": "stream",
     "text": [
      "Enter first array numbers separated by spaces:  34 23\n",
      "Enter second array numbers separated by spaces:  34 32\n"
     ]
    },
    {
     "name": "stdout",
     "output_type": "stream",
     "text": [
      "arr1 and arr2 do not have the same elements\n"
     ]
    }
   ],
   "source": [
    "try:\n",
    "    \n",
    "   arr1 = list(map(int, input(\"Enter first array numbers separated by spaces: \").split()))\n",
    "\n",
    "   arr2 = list(map(int, input(\"Enter second array numbers separated by spaces: \").split()))\n",
    "\n",
    "   if sorted(arr1) == sorted(arr2):\n",
    "       print(\"arr1 and arr2 have the same elements\")\n",
    "   else:\n",
    "       print(\"arr1 and arr2 do not have the same elements\")\n",
    "\n",
    "except ValueError:\n",
    "    print(\"Please enter valid numbers separated by spaces.\")"
   ]
  },
  {
   "cell_type": "markdown",
   "id": "eff481cd-845e-46fa-a7cd-c4783aa94422",
   "metadata": {},
   "source": [
    "## Program to Find **Missing Number** in Array"
   ]
  },
  {
   "cell_type": "code",
   "execution_count": 8,
   "id": "a406fef7-c297-462f-af1d-4e1742324735",
   "metadata": {},
   "outputs": [
    {
     "name": "stdin",
     "output_type": "stream",
     "text": [
      "Enter array numbers separated by spaces:  1 2 3 4 5 6 7 9\n"
     ]
    },
    {
     "name": "stdout",
     "output_type": "stream",
     "text": [
      "The missing number is: 8\n"
     ]
    }
   ],
   "source": [
    "arr = list(map(int, input(\"Enter array numbers separated by spaces: \").split()))    # Input array from user starting from 1\n",
    "\n",
    "n = len(arr) + 1                              # Calculate the expected length (n)\n",
    "total_sum = n * (n + 1) // 2                  # Calculate the sum of all numbers from 1 to n\n",
    "\n",
    "actual_sum = 0                                # Initialize the actual sum to 0\n",
    "for num in arr:                               # Calculate the sum of the numbers in the given array\n",
    "    actual_sum += num\n",
    "\n",
    "missing_number = total_sum - actual_sum       # The missing number is the difference between the expected sum and actual sum\n",
    "\n",
    "print(f\"The missing number is: {missing_number}\")"
   ]
  },
  {
   "cell_type": "markdown",
   "id": "8a729bb4-9d07-478c-a5ad-be19efa041ff",
   "metadata": {},
   "source": [
    "## Program to Find the **Max** and **Min** Element in Array"
   ]
  },
  {
   "cell_type": "code",
   "execution_count": 15,
   "id": "15148115-d315-4ec2-b5db-930630196948",
   "metadata": {},
   "outputs": [
    {
     "name": "stdin",
     "output_type": "stream",
     "text": [
      "Enter array numbers separated by spaces:  32 45 -9 43 0 -12\n"
     ]
    },
    {
     "name": "stdout",
     "output_type": "stream",
     "text": [
      "Maximum element of array: = 45\n",
      "Minimum element of array: = -12\n"
     ]
    }
   ],
   "source": [
    "arr = list(map(int, input(\"Enter array numbers separated by spaces: \").split()))\n",
    "\n",
    "mxm_elm = max(arr)\n",
    "mnm_elm = min(arr)\n",
    "\n",
    "print(\"Maximum element of array: =\", mxm_elm)\n",
    "print(\"Minimum element of array: =\", mnm_elm)"
   ]
  },
  {
   "cell_type": "markdown",
   "id": "b45d8f5f-6968-4e4d-a9d8-03de55c4359d",
   "metadata": {},
   "source": [
    "## Program to Find **Second Largest** Number in Array"
   ]
  },
  {
   "cell_type": "code",
   "execution_count": 19,
   "id": "aad7997d-c249-4d76-9c87-5d1e72e42ecb",
   "metadata": {},
   "outputs": [
    {
     "name": "stdin",
     "output_type": "stream",
     "text": [
      "Enter array numbers separated by spaces:  23 45 23 67 99 98 43\n"
     ]
    },
    {
     "name": "stdout",
     "output_type": "stream",
     "text": [
      "The second largest number is: 98\n"
     ]
    }
   ],
   "source": [
    "arr = list(map(int, input(\"Enter array numbers separated by spaces: \").split()))\n",
    "\n",
    "                                                 # Initialize variables to store the largest and second largest numbers\n",
    "largest = arr[0]                                 # Start with the first element as the largest\n",
    "second_largest = arr[0]                          # Start with the first element as the second largest\n",
    "\n",
    "                                   # First pass to find the largest number\n",
    "for i in range(1, len(arr)):\n",
    "    if arr[i] > largest:\n",
    "        largest = arr[i]\n",
    "\n",
    "                                   # Second pass to find the second largest number\n",
    "for i in range(0, len(arr)):\n",
    "    if arr[i] != largest and arr[i] > second_largest:\n",
    "        second_largest = arr[i]\n",
    "\n",
    "if largest == second_largest:      # If the array has only one unique value\n",
    "    print(\"There is no second largest number.\")\n",
    "else:\n",
    "    print(f\"The second largest number is: {second_largest}\")"
   ]
  },
  {
   "cell_type": "markdown",
   "id": "93132a23-c992-4e17-ae34-4fefd6602c64",
   "metadata": {},
   "source": [
    "## Program to Find the **Duplicate** Number in Array"
   ]
  },
  {
   "cell_type": "code",
   "execution_count": 18,
   "id": "b7c538fe-be3d-41c2-bd2a-242b9eb3b43c",
   "metadata": {},
   "outputs": [
    {
     "name": "stdin",
     "output_type": "stream",
     "text": [
      "Enter array numbers separated by spaces:  32 43 54 65 32 78\n"
     ]
    },
    {
     "name": "stdout",
     "output_type": "stream",
     "text": [
      "The duplicate number is: 32\n"
     ]
    }
   ],
   "source": [
    "arr = list(map(int, input(\"Enter array numbers separated by spaces: \").split()))  # Input array from user\n",
    "\n",
    "duplicate = -1                                     # Initialize duplicate to -1 (assuming no duplicates found)\n",
    "\n",
    "for i in range(len(arr)):                          # Iterate through the array\n",
    "    for j in range(i + 1, len(arr)):               # Check for duplicates by comparing each element with the others\n",
    "        if arr[i] == arr[j]:                       # If a duplicate is found\n",
    "            duplicate = arr[i]\n",
    "            break                                  # Exit inner loop\n",
    "    if duplicate != -1:\n",
    "        break                                      # Exit outer loop if duplicate found\n",
    "\n",
    "if duplicate != -1:\n",
    "    print(f\"The duplicate number is: {duplicate}\")\n",
    "else:\n",
    "    print(\"No duplicate number found.\")"
   ]
  },
  {
   "cell_type": "markdown",
   "id": "ac92ba36-59fa-4ab5-89d0-123bf10c5d70",
   "metadata": {},
   "source": [
    "## Program to Remove all the **White Space** in a String"
   ]
  },
  {
   "cell_type": "code",
   "execution_count": 29,
   "id": "c24c8d3f-d3ec-4905-83b0-55ec9764dd80",
   "metadata": {},
   "outputs": [
    {
     "name": "stdin",
     "output_type": "stream",
     "text": [
      "Enter the string:  Please    bring 11   chocolates  .\n"
     ]
    },
    {
     "name": "stdout",
     "output_type": "stream",
     "text": [
      "String without space : Pleasebring11chocolates.\n"
     ]
    }
   ],
   "source": [
    "str1 = input(\"Enter the string: \")\n",
    "joint_str = str1.replace(\" \", \"\")\n",
    "print(\"String without space :\", joint_str)"
   ]
  },
  {
   "cell_type": "markdown",
   "id": "6ed6ebff-a29b-44f5-85ec-2b313fb7c1ed",
   "metadata": {},
   "source": [
    "## Program to Count the **Occurrence** of a Character in a String"
   ]
  },
  {
   "cell_type": "code",
   "execution_count": 43,
   "id": "23757d13-01c4-41c7-ba78-0f11c660ecb5",
   "metadata": {},
   "outputs": [
    {
     "name": "stdin",
     "output_type": "stream",
     "text": [
      "Enter the string:  Elephants leave water\n"
     ]
    },
    {
     "name": "stdout",
     "output_type": "stream",
     "text": [
      "Count of 'a' in the string:  3\n",
      "Count of 'e' in the string:  5\n"
     ]
    }
   ],
   "source": [
    "str1 = input(\"Enter the string: \")\n",
    "counter = str1.count('A') + str1.count('a')\n",
    "counter1 = str1.count('E') + str1.count('e')\n",
    "print(\"Count of 'a' in the string: \", counter)\n",
    "print(\"Count of 'e' in the string: \", counter1)"
   ]
  },
  {
   "cell_type": "markdown",
   "id": "24da0170-206f-4fab-9ddb-c3091b10ceb2",
   "metadata": {},
   "source": [
    "## Program to **Count Words** in a String"
   ]
  },
  {
   "cell_type": "code",
   "execution_count": 61,
   "id": "9c98d3a0-05e5-48d4-8b23-28e87051aa0d",
   "metadata": {},
   "outputs": [
    {
     "name": "stdin",
     "output_type": "stream",
     "text": [
      "Enter the string:  I am looking for a Job in the field of Data Analytics.\n"
     ]
    },
    {
     "name": "stdout",
     "output_type": "stream",
     "text": [
      "Number of words in the string:  12\n"
     ]
    }
   ],
   "source": [
    "str1 = input(\"Enter the string: \")\n",
    "counter = str1.count(\" \") + 1\n",
    "print(\"Number of words in the string: \", counter)"
   ]
  },
  {
   "cell_type": "markdown",
   "id": "58f36b93-e0eb-4066-9a04-250b0174f11e",
   "metadata": {},
   "source": [
    "## Program to **Count letters** excluding spaces in a String"
   ]
  },
  {
   "cell_type": "code",
   "execution_count": 76,
   "id": "9f5c4311-8d97-4976-b7f9-f7671539d508",
   "metadata": {},
   "outputs": [
    {
     "name": "stdin",
     "output_type": "stream",
     "text": [
      "Enter the string:  Apple is a fruit.\n"
     ]
    },
    {
     "name": "stdout",
     "output_type": "stream",
     "text": [
      "Number of letters excluding spaces in the string:  14\n"
     ]
    }
   ],
   "source": [
    "str1 = input(\"Enter the string: \")\n",
    "counter = len(str1) - str1.count(\" \")\n",
    "print(\"Number of letters excluding spaces in the string: \", counter)"
   ]
  },
  {
   "cell_type": "markdown",
   "id": "514c15f3-c9b8-4ac2-b36a-c499369852d4",
   "metadata": {},
   "source": [
    "## Program to **Reverse** Each Word in a String"
   ]
  },
  {
   "cell_type": "code",
   "execution_count": 87,
   "id": "90549528-f0f2-4e56-af9c-50cb16158a34",
   "metadata": {},
   "outputs": [
    {
     "name": "stdin",
     "output_type": "stream",
     "text": [
      "Enter the string:  You like to play cricket\n"
     ]
    },
    {
     "name": "stdout",
     "output_type": "stream",
     "text": [
      "Reverse of the string is:  uoY ekil ot yalp tekcirc\n"
     ]
    }
   ],
   "source": [
    "str1 = input(\"Enter the string: \")           # Enter a string\n",
    "splt = str1.split()                          # Split the words from the string\n",
    "rev = list(map(lambda x: x[::-1], splt))     # Use the 'lambda' function to reverse the splitted words on same place as a list\n",
    "rev_str = ' '.join(rev)                      # Convert the list into 'string'\n",
    "print(\"Reverse of the string is: \", rev_str)"
   ]
  },
  {
   "cell_type": "markdown",
   "id": "819f3d23-e478-44a4-8985-b18787e54a42",
   "metadata": {},
   "source": [
    "## Program to Remove `Junk` or `Special` character in a String"
   ]
  },
  {
   "cell_type": "code",
   "execution_count": 106,
   "id": "b7154eb9-e03f-4c39-94a3-ce3976338839",
   "metadata": {},
   "outputs": [
    {
     "name": "stdin",
     "output_type": "stream",
     "text": [
      "Enter the string:  !@$5Follow Code Yatra\n"
     ]
    },
    {
     "name": "stdout",
     "output_type": "stream",
     "text": [
      "String without special/junk characters: 5FollowCodeYatra"
     ]
    }
   ],
   "source": [
    "str1 = input(\"Enter the string: \")\n",
    "str2 = ''\n",
    "print(\"String without special/junk characters: \", end = '')\n",
    "for i in str1:\n",
    "    if i.isalnum():\n",
    "      str3 = str2.join(i)\n",
    "      print(str3, end = '')"
   ]
  },
  {
   "cell_type": "markdown",
   "id": "ba1b06bb-09f0-4c6d-8bc6-7f111950ec9f",
   "metadata": {},
   "source": [
    "## Program to Search an Element in Array (**_Linear Search_**)"
   ]
  },
  {
   "cell_type": "code",
   "execution_count": 114,
   "id": "13870615-48cf-43f5-9908-64ff5e31e383",
   "metadata": {},
   "outputs": [
    {
     "name": "stdin",
     "output_type": "stream",
     "text": [
      "Enter array numbers separated by spaces: :  12 76 54 98 32 99\n",
      "Enter the target number:  54\n"
     ]
    },
    {
     "name": "stdout",
     "output_type": "stream",
     "text": [
      "Element found at index 2\n"
     ]
    }
   ],
   "source": [
    "arr = list(map(int, input(\"Enter array numbers separated by spaces: : \").split()))\n",
    "target = int(input(\"Enter the target number: \"))\n",
    "\n",
    "for i in range(len(arr)):                     # Perform Linear Search\n",
    "    if arr[i] == target:\n",
    "        print(f\"Element found at index {i}\")\n",
    "        break\n",
    "else:\n",
    "    print(\"Element not found\")"
   ]
  },
  {
   "cell_type": "markdown",
   "id": "cfc30314-53e8-40d9-bfb4-d4709a3fc164",
   "metadata": {},
   "source": [
    "## Program to Search an Element in Array (**_Binary Search_**)"
   ]
  },
  {
   "cell_type": "code",
   "execution_count": 116,
   "id": "d79179b7-20e0-424f-a4bd-d3ec9d60bcd7",
   "metadata": {},
   "outputs": [
    {
     "name": "stdin",
     "output_type": "stream",
     "text": [
      "Enter sorted array numbers separated by spaces:  12 76 54 98 32 99\n",
      "Enter the target number:  54\n"
     ]
    },
    {
     "name": "stdout",
     "output_type": "stream",
     "text": [
      "Element found at index 2\n"
     ]
    }
   ],
   "source": [
    "arr = list(map(int, input(\"Enter sorted array numbers separated by spaces: \").split()))\n",
    "target = int(input(\"Enter the target number: \"))\n",
    "\n",
    "left = 0                                              # Initialize the search bounds\n",
    "right = len(arr) - 1\n",
    "\n",
    "while left <= right:                                  # Perform Binary Search        \n",
    "    mid = (left + right) // 2\n",
    "    if arr[mid] == target:\n",
    "        print(f\"Element found at index {mid}\")\n",
    "        break\n",
    "    elif arr[mid] < target:\n",
    "        left = mid + 1\n",
    "    else:\n",
    "        right = mid - 1\n",
    "else:\n",
    "    print(\"Element not found\")"
   ]
  },
  {
   "cell_type": "markdown",
   "id": "1279c171-73bf-4b50-a3ce-2d88c7ae297f",
   "metadata": {},
   "source": [
    "## Program to Sort Elements in Array (**Bubble Sort**)\n",
    "- Bubble Sort: Repeatedly swaps adjacent elements.\n",
    "- Bubble Sort repeatedly swaps adjacent elements if they are in the wrong order. It \"bubbles\" the largest elements to the end."
   ]
  },
  {
   "cell_type": "code",
   "execution_count": 3,
   "id": "f34a706a-2c9a-4751-a72e-fee0ac8cd3e5",
   "metadata": {},
   "outputs": [
    {
     "name": "stdin",
     "output_type": "stream",
     "text": [
      "Enter sorted array numbers separated by spaces:  12 34 54 32 78 9 45 67 21 39\n"
     ]
    },
    {
     "name": "stdout",
     "output_type": "stream",
     "text": [
      "Sorted Elements in Array:  [9, 12, 21, 32, 34, 39, 45, 54, 67, 78]\n"
     ]
    }
   ],
   "source": [
    "arr = list(map(int, input(\"Enter sorted array numbers separated by spaces: \").split()))\n",
    "\n",
    "for i in range(len(arr)):\n",
    "    for j in range(len(arr) - i - 1):\n",
    "        if arr[j] > arr[j + 1]:\n",
    "            arr[j], arr[j + 1] = arr[j + 1], arr[j]     # Swaping the values\n",
    "\n",
    "print(\"Sorted Elements in Array: \", arr)"
   ]
  },
  {
   "cell_type": "markdown",
   "id": "6695a262-82f3-41d7-96a3-1df79e35e1e9",
   "metadata": {},
   "source": [
    "## Program to Sort Elements in Array (**Selection Sort**)\n",
    "- Selection Sort: Repeatedly selects the minimum element.\n",
    "- Selection Sort finds the smallest element in the unsorted part and swaps it with the first unsorted element."
   ]
  },
  {
   "cell_type": "code",
   "execution_count": 4,
   "id": "a43870eb-a524-4a5f-9434-096a57f97894",
   "metadata": {},
   "outputs": [
    {
     "name": "stdin",
     "output_type": "stream",
     "text": [
      "Enter sorted array numbers separated by spaces:  12 34 54 32 78 9 45 67 21 39\n"
     ]
    },
    {
     "name": "stdout",
     "output_type": "stream",
     "text": [
      "Sorted Elements in Array:  [9, 12, 21, 32, 34, 39, 45, 54, 67, 78]\n"
     ]
    }
   ],
   "source": [
    "arr = list(map(int, input(\"Enter sorted array numbers separated by spaces: \").split()))\n",
    "\n",
    "for i in range(len(arr)):\n",
    "    min_index = i\n",
    "    for j in range(i + 1, len(arr)):\n",
    "        if arr[j] < arr[min_index]:\n",
    "            min_index = j\n",
    "    arr[i], arr[min_index] = arr[min_index], arr[i]     # Swaping the values\n",
    "\n",
    "print(\"Sorted Elements in Array: \", arr)"
   ]
  },
  {
   "cell_type": "markdown",
   "id": "efbc1acf-aa2c-4d4a-9c88-5644ab32f2a3",
   "metadata": {},
   "source": [
    "## Program to Sort Elements in Array (**Selection Sort**)\n",
    "- Heap Sort: Uses a heap to sort elements."
   ]
  },
  {
   "cell_type": "code",
   "execution_count": 9,
   "id": "e260ed95-2b1d-4aba-afbb-a4571d6c7a05",
   "metadata": {},
   "outputs": [
    {
     "name": "stdin",
     "output_type": "stream",
     "text": [
      "Enter sorted array numbers separated by spaces:  12 34 54 32 78 9 45 67 21 39\n"
     ]
    },
    {
     "name": "stdout",
     "output_type": "stream",
     "text": [
      "Sorted Elements in Array:  [9, 12, 21, 32, 34, 39, 45, 54, 67, 78]\n"
     ]
    }
   ],
   "source": [
    "import heapq\n",
    "\n",
    "arr = list(map(int, input(\"Enter sorted array numbers separated by spaces: \").split()))\n",
    "\n",
    "heapq.heapify(arr)                                           # Convert list into a heap\n",
    "sorted_arr = [heapq.heappop(arr) for _ in range(len(arr))]\n",
    "\n",
    "print(\"Sorted Elements in Array: \", sorted_arr)"
   ]
  },
  {
   "cell_type": "markdown",
   "id": "bab3a9d5-a687-4f2d-8516-1e10ec17fcf7",
   "metadata": {},
   "source": [
    "## **Number Pattern**: Repeating numbers `Right-Angled Triangle`"
   ]
  },
  {
   "cell_type": "code",
   "execution_count": 85,
   "id": "9dcc311b-4690-4fe6-bb0d-e54f4120cc93",
   "metadata": {},
   "outputs": [
    {
     "name": "stdout",
     "output_type": "stream",
     "text": [
      "1 \n",
      "2 2 \n",
      "3 3 3 \n",
      "4 4 4 4 \n",
      "5 5 5 5 5 \n",
      "6 6 6 6 6 6 \n",
      "7 7 7 7 7 7 7 \n",
      "8 8 8 8 8 8 8 8 \n",
      "9 9 9 9 9 9 9 9 9 \n"
     ]
    }
   ],
   "source": [
    "for i in range(1, 10):\n",
    "    for j in range(0, i):\n",
    "        print(i, end = \" \")\n",
    "    print()"
   ]
  },
  {
   "cell_type": "markdown",
   "id": "90a33efc-e0a0-42d1-8a01-832a5ecac307",
   "metadata": {},
   "source": [
    "## **Number Pattern**: Incremental or Floyd's numbers `Right-Angled Triangle`"
   ]
  },
  {
   "cell_type": "code",
   "execution_count": 103,
   "id": "22823f25-86dc-4ae7-8e4a-d294a647fae7",
   "metadata": {},
   "outputs": [
    {
     "name": "stdout",
     "output_type": "stream",
     "text": [
      "1 \n",
      "2 3 \n",
      "4 5 6 \n",
      "7 8 9 10 \n"
     ]
    }
   ],
   "source": [
    "num = 1\n",
    "for i in range(1, 5):\n",
    "    for j in range(0, i):\n",
    "        print(num, end = \" \")\n",
    "        num += 1\n",
    "    print()"
   ]
  },
  {
   "cell_type": "markdown",
   "id": "7c1f3708-4b67-4a5a-9a16-e8b4c95f8a14",
   "metadata": {},
   "source": [
    "## **Number Pattern**: Sequential numbers `Right-Angled Triangle`"
   ]
  },
  {
   "cell_type": "code",
   "execution_count": 39,
   "id": "a7ad469d-6800-47e9-ac3c-80d6ece1b1a2",
   "metadata": {},
   "outputs": [
    {
     "name": "stdout",
     "output_type": "stream",
     "text": [
      "\n",
      "1 \n",
      "1 2 \n",
      "1 2 3 \n",
      "1 2 3 4 \n",
      "1 2 3 4 5 \n",
      "1 2 3 4 5 6 \n",
      "1 2 3 4 5 6 7 \n",
      "1 2 3 4 5 6 7 8 \n",
      "1 2 3 4 5 6 7 8 9 \n"
     ]
    }
   ],
   "source": [
    "for i in range(1, 11):\n",
    "    for j in range(1, i):\n",
    "        print(j, end = \" \")\n",
    "    print()"
   ]
  },
  {
   "cell_type": "markdown",
   "id": "4f34a315-e5e5-4d0b-89c6-792c4ebbf8ce",
   "metadata": {},
   "source": [
    "## **Number Pattern**: Palindrome numbers `Right-Angled Triangle`"
   ]
  },
  {
   "cell_type": "code",
   "execution_count": 209,
   "id": "e6f2ae8f-7bbd-467b-a787-e687bb8f43d8",
   "metadata": {},
   "outputs": [
    {
     "name": "stdout",
     "output_type": "stream",
     "text": [
      "1 \n",
      "1 2 1 \n",
      "1 2 3 2 1 \n",
      "1 2 3 4 3 2 1 \n",
      "1 2 3 4 5 4 3 2 1 \n"
     ]
    }
   ],
   "source": [
    "for i in range(1, 6):\n",
    "    for j in range(1, i + 1):\n",
    "        print(j, end = \" \")\n",
    "    for k in range(i -1, 0, -1):\n",
    "        print(k, end = \" \")\n",
    "    print()"
   ]
  },
  {
   "cell_type": "markdown",
   "id": "47abf009-38f4-45e2-81ec-3f7e0f70e60d",
   "metadata": {},
   "source": [
    "## **Number Pattern**: Sequential numbers `Inverted Right-Angled Triangle`"
   ]
  },
  {
   "cell_type": "code",
   "execution_count": 20,
   "id": "2fa20b0d-6022-481e-a1fe-3a6dd997837c",
   "metadata": {},
   "outputs": [
    {
     "name": "stdout",
     "output_type": "stream",
     "text": [
      "1 2 3 4 5 6 7 8 9 \n",
      "1 2 3 4 5 6 7 8 \n",
      "1 2 3 4 5 6 7 \n",
      "1 2 3 4 5 6 \n",
      "1 2 3 4 5 \n",
      "1 2 3 4 \n",
      "1 2 3 \n",
      "1 2 \n",
      "1 \n"
     ]
    }
   ],
   "source": [
    "for i in range (10, 1, -1):\n",
    "    for j in range (1, i):\n",
    "        print(j, end = \" \")\n",
    "    print()"
   ]
  },
  {
   "cell_type": "markdown",
   "id": "e55557fd-9bc4-4e7c-8d83-bf4c41f89627",
   "metadata": {},
   "source": [
    "## **Number Pattern**: Sequential numbers `Pyramid`"
   ]
  },
  {
   "cell_type": "code",
   "execution_count": 406,
   "id": "bb370310-7e34-422e-8b39-92673779e526",
   "metadata": {},
   "outputs": [
    {
     "name": "stdout",
     "output_type": "stream",
     "text": [
      "       \n",
      "      1 \n",
      "     1 2 \n",
      "    1 2 3 \n",
      "   1 2 3 4 \n",
      "  1 2 3 4 5 \n",
      " 1 2 3 4 5 6 \n"
     ]
    }
   ],
   "source": [
    "x = 7\n",
    "for i in range(0, x):\n",
    "  for j in range(0, x-i):\n",
    "   print(' ', end = '')\n",
    "  for k in range(1, i+1):\n",
    "   print(k, end= ' ')           # Can use '*' instead of '' to print star pyramid\n",
    "  print()"
   ]
  },
  {
   "cell_type": "markdown",
   "id": "2bc78c21-4b26-4e9b-ac9e-be591cc6c1f8",
   "metadata": {},
   "source": [
    "## **Number Pattern**: Sequential numbers `Inverted Pyramid`"
   ]
  },
  {
   "cell_type": "code",
   "execution_count": 322,
   "id": "e4c54f08-f984-4469-a1c7-9166ca5f9c81",
   "metadata": {},
   "outputs": [
    {
     "name": "stdout",
     "output_type": "stream",
     "text": [
      "1 2 3 4 5 6 \n",
      " 1 2 3 4 5 \n",
      "  1 2 3 4 \n",
      "   1 2 3 \n",
      "    1 2 \n",
      "     1 \n"
     ]
    }
   ],
   "source": [
    "x = 6\n",
    "for i in range(x, 0, -1):\n",
    "  for j in range(0, x-i):\n",
    "   print(' ', end = '')\n",
    "  for k in range(1, i+1):\n",
    "   print(k, end= ' ')\n",
    "  print()"
   ]
  },
  {
   "cell_type": "markdown",
   "id": "57681200-e7c5-45df-85d2-bb823a2bae27",
   "metadata": {},
   "source": [
    "## **Number Pattern**: Palindrome/Mirrored numbers `Pyramid`"
   ]
  },
  {
   "cell_type": "code",
   "execution_count": 252,
   "id": "1db37f03-7c71-416e-bac4-501ca5a664b4",
   "metadata": {},
   "outputs": [
    {
     "name": "stdout",
     "output_type": "stream",
     "text": [
      "                  1 \n",
      "                1 2 1 \n",
      "              1 2 3 2 1 \n",
      "            1 2 3 4 3 2 1 \n",
      "          1 2 3 4 5 4 3 2 1 \n",
      "        1 2 3 4 5 6 5 4 3 2 1 \n",
      "      1 2 3 4 5 6 7 6 5 4 3 2 1 \n",
      "    1 2 3 4 5 6 7 8 7 6 5 4 3 2 1 \n",
      "  1 2 3 4 5 6 7 8 9 8 7 6 5 4 3 2 1 \n"
     ]
    }
   ],
   "source": [
    "x = 10                                   # Number of rows\n",
    "\n",
    "for i in range(1, x):                    # Outer loop for the number of rows\n",
    "   \n",
    "    for j in range(x - i):               # Print leading spaces\n",
    "        print(' ', end=' ')\n",
    "\n",
    "    for k in range(1, i + 1):            # Print increasing numbers\n",
    "        print(k, end=' ')\n",
    "\n",
    "    for l in range(i - 1, 0, -1):        # Print decreasing numbers\n",
    "        print(l, end=' ')\n",
    "\n",
    "    print()                              # New line after each row"
   ]
  },
  {
   "cell_type": "markdown",
   "id": "3f2f37ac-6d50-47b9-ab91-3c83ce1a0e95",
   "metadata": {},
   "source": [
    "## **Number Pattern**: Repeating numbers `Pyramid`"
   ]
  },
  {
   "cell_type": "code",
   "execution_count": 270,
   "id": "8e752d0c-2a2c-4fcc-a9aa-ee73669c8f8b",
   "metadata": {},
   "outputs": [
    {
     "name": "stdout",
     "output_type": "stream",
     "text": [
      "          \n",
      "         1 \n",
      "        2 2 \n",
      "       3 3 3 \n",
      "      4 4 4 4 \n",
      "     5 5 5 5 5 \n",
      "    6 6 6 6 6 6 \n",
      "   7 7 7 7 7 7 7 \n",
      "  8 8 8 8 8 8 8 8 \n",
      " 9 9 9 9 9 9 9 9 9 \n"
     ]
    }
   ],
   "source": [
    "x = 10\n",
    "for i in range(0, x):\n",
    "    for j in range(0, x - i):\n",
    "        print(' ', end='')\n",
    "    for k in range(1, i+1):\n",
    "        print(i, end=' ')\n",
    "    print()"
   ]
  },
  {
   "cell_type": "markdown",
   "id": "0a272862-9352-459c-8225-a55ca5209f53",
   "metadata": {},
   "source": [
    "## **Number Pattern**: Sequential numbers `Square`"
   ]
  },
  {
   "cell_type": "code",
   "execution_count": 321,
   "id": "bed36ed1-01ce-4270-bdd1-e5cd27add7af",
   "metadata": {},
   "outputs": [
    {
     "name": "stdout",
     "output_type": "stream",
     "text": [
      "1 2 3 4 5 \n",
      "1 2 3 4 5 \n",
      "1 2 3 4 5 \n",
      "1 2 3 4 5 \n",
      "1 2 3 4 5 \n"
     ]
    }
   ],
   "source": [
    "n = 6\n",
    "\n",
    "for i in range(1, n):\n",
    "    for j in range(1, n):\n",
    "        print(j, end = \" \")\n",
    "    print()"
   ]
  },
  {
   "cell_type": "markdown",
   "id": "493be34a-51e2-4fdb-8ea7-09306070d341",
   "metadata": {},
   "source": [
    "## **Number Pattern**: Sequential numbers `Diamond`"
   ]
  },
  {
   "cell_type": "code",
   "execution_count": 302,
   "id": "8ee81a70-b04d-4450-841a-c7a97d0ed528",
   "metadata": {},
   "outputs": [
    {
     "name": "stdout",
     "output_type": "stream",
     "text": [
      "       \n",
      "      1 \n",
      "     1 2 \n",
      "    1 2 3 \n",
      "   1 2 3 4 \n",
      "  1 2 3 4 5 \n",
      " 1 2 3 4 5 6 \n",
      "1 2 3 4 5 6 7 \n",
      " 1 2 3 4 5 6 \n",
      "  1 2 3 4 5 \n",
      "   1 2 3 4 \n",
      "    1 2 3 \n",
      "     1 2 \n",
      "      1 \n"
     ]
    }
   ],
   "source": [
    "x = 7\n",
    "for i in range(0, x):\n",
    "  for j in range(0, x-i):\n",
    "   print(' ', end = '')\n",
    "  for k in range(1, i+1):\n",
    "   print(k, end= ' ')\n",
    "  print()\n",
    "\n",
    "for i in range(x, 0, -1):\n",
    "  for j in range(0, x-i):\n",
    "   print(' ', end = '')\n",
    "  for k in range(1, i+1):\n",
    "   print(k, end= ' ')\n",
    "  print()"
   ]
  },
  {
   "cell_type": "markdown",
   "id": "c7b5caa3-4f15-45d6-9e98-ababbf99b312",
   "metadata": {},
   "source": [
    "## **Number Pattern**: Zig-Zag/Snake like flow `Right-Angled Triangle`"
   ]
  },
  {
   "cell_type": "code",
   "execution_count": 70,
   "id": "a3aa517b-0561-4586-aff1-2752327404d4",
   "metadata": {},
   "outputs": [
    {
     "name": "stdout",
     "output_type": "stream",
     "text": [
      "1 2 3 4 5\n",
      "10 9 8 7 6\n",
      "11 12 13 14 15\n",
      "20 19 18 17 16\n"
     ]
    }
   ],
   "source": [
    "cols = 5                                                     # Define the size of the matrix (rows and columns)\n",
    "rows = 4\n",
    "num = 1                                                      # Initialize the number to be printed\n",
    "\n",
    "matrix = [[0 for _ in range(cols)] for _ in range(rows)]     # Create an empty matrix\n",
    "\n",
    "for i in range(rows):                                        # Fill the matrix with the snake-like pattern\n",
    "    if i % 2 == 0:\n",
    "        for j in range(cols):                                # Fill left to right for even rows\n",
    "            matrix[i][j] = num\n",
    "            num += 1\n",
    "    else:\n",
    "        for j in range(cols - 1, -1, -1):                    # Fill right to left for odd rows\n",
    "            matrix[i][j] = num\n",
    "            num += 1\n",
    "\n",
    "for row in matrix:                                           # Print the matrix\n",
    "    print(' '.join(map(str, row)))"
   ]
  },
  {
   "cell_type": "markdown",
   "id": "bf379f96-9c00-490b-9069-a8222529c699",
   "metadata": {},
   "source": [
    "## **Star (*) Pattern**: `Right-Angled Triangle`"
   ]
  },
  {
   "cell_type": "code",
   "execution_count": 76,
   "id": "003a19fa-4efc-4f8e-8273-a0c679efe1da",
   "metadata": {},
   "outputs": [
    {
     "name": "stdout",
     "output_type": "stream",
     "text": [
      "* \n",
      "* * \n",
      "* * * \n",
      "* * * * \n",
      "* * * * * \n",
      "* * * * * * \n",
      "* * * * * * * \n",
      "* * * * * * * * \n",
      "* * * * * * * * * \n"
     ]
    }
   ],
   "source": [
    "for i in range(1, 10):\n",
    "    print('* ' * i)"
   ]
  },
  {
   "cell_type": "markdown",
   "id": "87febc08-0b87-4ffd-ba62-c642dc4cd032",
   "metadata": {},
   "source": [
    "## **Star (*) Pattern**: `Inverted Right-Angled Triangle`"
   ]
  },
  {
   "cell_type": "code",
   "execution_count": 167,
   "id": "ba36aa44-cdea-486b-85df-4ef8bed837ca",
   "metadata": {},
   "outputs": [
    {
     "name": "stdout",
     "output_type": "stream",
     "text": [
      "* * * * * * * * * \n",
      "* * * * * * * * \n",
      "* * * * * * * \n",
      "* * * * * * \n",
      "* * * * * \n",
      "* * * * \n",
      "* * * \n",
      "* * \n",
      "* \n"
     ]
    }
   ],
   "source": [
    "for i in range (9, 0, -1):\n",
    " print(\"* \" * i)"
   ]
  },
  {
   "cell_type": "markdown",
   "id": "c63bac56-039e-441b-b7b1-6571572663ac",
   "metadata": {},
   "source": [
    "## **Star (*) Pattern**: `Pyramid`"
   ]
  },
  {
   "cell_type": "code",
   "execution_count": 295,
   "id": "5608aeef-ea7c-4b93-b884-201a26bb6c7d",
   "metadata": {},
   "outputs": [
    {
     "name": "stdout",
     "output_type": "stream",
     "text": [
      "          * \n",
      "         * * \n",
      "        * * * \n",
      "       * * * * \n",
      "      * * * * * \n",
      "     * * * * * * \n",
      "    * * * * * * * \n",
      "   * * * * * * * * \n",
      "  * * * * * * * * * \n",
      " * * * * * * * * * * \n"
     ]
    }
   ],
   "source": [
    "n = 11\n",
    "for i in range(1, n):\n",
    "    print(' ' * (n - i) + '* ' * i)"
   ]
  },
  {
   "cell_type": "markdown",
   "id": "6fae8642-cf6a-4909-a611-a651be3541c5",
   "metadata": {},
   "source": [
    "## **Star (*) Pattern**: `Inverted Pyramid`"
   ]
  },
  {
   "cell_type": "code",
   "execution_count": 194,
   "id": "6570e5bf-c1b3-4250-b990-18014ecd7fda",
   "metadata": {},
   "outputs": [
    {
     "name": "stdout",
     "output_type": "stream",
     "text": [
      " * * * * * * * * * *\n",
      "  * * * * * * * * *\n",
      "   * * * * * * * *\n",
      "    * * * * * * *\n",
      "     * * * * * *\n",
      "      * * * * *\n",
      "       * * * *\n",
      "        * * *\n",
      "         * *\n",
      "          *\n"
     ]
    }
   ],
   "source": [
    "n = 10\n",
    "for i in range(n, 0, -1):\n",
    "    print(' ' * (n - i) + ' *' * i)"
   ]
  },
  {
   "cell_type": "markdown",
   "id": "8c7f640d-1765-46ee-9bac-7e9ca2b08e7b",
   "metadata": {},
   "source": [
    "## **Star (*) Pattern**: `Diamond`"
   ]
  },
  {
   "cell_type": "code",
   "execution_count": 10,
   "id": "9ca7788f-0f8d-44d0-9858-7ba5fecfc7ca",
   "metadata": {},
   "outputs": [
    {
     "name": "stdout",
     "output_type": "stream",
     "text": [
      "          *\n",
      "         * *\n",
      "        * * *\n",
      "       * * * *\n",
      "      * * * * *\n",
      "     * * * * * *\n",
      "    * * * * * * *\n",
      "   * * * * * * * *\n",
      "  * * * * * * * * *\n",
      " * * * * * * * * * *\n",
      "  * * * * * * * * *\n",
      "   * * * * * * * *\n",
      "    * * * * * * *\n",
      "     * * * * * *\n",
      "      * * * * *\n",
      "       * * * *\n",
      "        * * *\n",
      "         * *\n",
      "          *\n"
     ]
    }
   ],
   "source": [
    "n = 10\n",
    "for i in range(1, n):\n",
    "    print(' ' * (n - i) + ' *' * i)\n",
    "for i in range(n, 0, -1):\n",
    "    print(' ' * (n - i) + ' *' * i)"
   ]
  },
  {
   "cell_type": "markdown",
   "id": "09cdf757-4d4b-492d-968b-4ed926cddf3c",
   "metadata": {},
   "source": [
    "## **Star (*) Pattern**: `X-Filled`"
   ]
  },
  {
   "cell_type": "code",
   "execution_count": 516,
   "id": "7adf7f08-037c-4c8f-ae6b-fdabc51329b5",
   "metadata": {},
   "outputs": [
    {
     "name": "stdout",
     "output_type": "stream",
     "text": [
      " * * * * * * * *\n",
      "  * * * * * * *\n",
      "   * * * * * *\n",
      "    * * * * *\n",
      "     * * * *\n",
      "      * * *\n",
      "       * *\n",
      "        *\n",
      "        *\n",
      "       * *\n",
      "      * * *\n",
      "     * * * *\n",
      "    * * * * *\n",
      "   * * * * * *\n",
      "  * * * * * * *\n",
      " * * * * * * * *\n"
     ]
    }
   ],
   "source": [
    "n = 8\n",
    "for i in range(n, 0, -1):\n",
    "    print(' ' * (n - i) + ' *' * i)\n",
    "for i in range(1, n + 1):\n",
    "    print(' ' * (n - i) + ' *' * i)"
   ]
  },
  {
   "cell_type": "markdown",
   "id": "1067956a-c2d0-4f87-b9e0-8681630536fd",
   "metadata": {},
   "source": [
    "## **Star (*) Pattern**: `Hollow Square`"
   ]
  },
  {
   "cell_type": "code",
   "execution_count": 519,
   "id": "fe37dd8a-66d7-4da7-95c8-a5d1586986cc",
   "metadata": {},
   "outputs": [
    {
     "name": "stdout",
     "output_type": "stream",
     "text": [
      "* * * * * * * \n",
      "*           * \n",
      "*           * \n",
      "*           * \n",
      "*           * \n",
      "*           * \n",
      "* * * * * * * \n"
     ]
    }
   ],
   "source": [
    "n = 7\n",
    "\n",
    "for i in range(n):\n",
    "    for j in range(n):\n",
    "        if i == 0 or i == n - 1 or j == 0 or j == n - 1:\n",
    "            print('*', end=' ')\n",
    "        else:\n",
    "            print(' ', end=' ')\n",
    "    print()"
   ]
  },
  {
   "cell_type": "markdown",
   "id": "50db4884-53fa-43ba-b74e-f5496a140248",
   "metadata": {},
   "source": [
    "## **Star (*) Pattern**: `+`"
   ]
  },
  {
   "cell_type": "code",
   "execution_count": 521,
   "id": "93480ab8-290a-4138-a4e6-362a2bcf62b6",
   "metadata": {},
   "outputs": [
    {
     "name": "stdout",
     "output_type": "stream",
     "text": [
      "      *       \n",
      "      *       \n",
      "      *       \n",
      "* * * * * * * \n",
      "      *       \n",
      "      *       \n",
      "      *       \n"
     ]
    }
   ],
   "source": [
    "n = 7\n",
    "\n",
    "for i in range(n):\n",
    "    for j in range(n):\n",
    "        if i == n // 2 or j == n // 2:\n",
    "            print('*', end=' ')\n",
    "        else:\n",
    "            print(' ', end=' ')\n",
    "    print()"
   ]
  },
  {
   "cell_type": "markdown",
   "id": "7a2d561c-7f00-480b-9642-9d83984a9f33",
   "metadata": {},
   "source": [
    "## **Star (*) Pattern**: `X`"
   ]
  },
  {
   "cell_type": "code",
   "execution_count": 350,
   "id": "d8e341cc-ece1-4025-8423-0afcb93bebf0",
   "metadata": {},
   "outputs": [
    {
     "name": "stdout",
     "output_type": "stream",
     "text": [
      "*     *\n",
      " *   * \n",
      "  * *  \n",
      "   *   \n",
      "  * *  \n",
      " *   * \n",
      "*     *\n"
     ]
    }
   ],
   "source": [
    "n = 7\n",
    "\n",
    "for i in range(n):\n",
    "    for j in range(n):\n",
    "        if j == i or j == n - i - 1:\n",
    "            print('*', end='')\n",
    "        else:\n",
    "            print(' ', end='')\n",
    "    print()"
   ]
  },
  {
   "cell_type": "markdown",
   "id": "b7732386-a53a-4544-b697-bc93f6e68925",
   "metadata": {},
   "source": [
    "## **Alphabet Pattern**: Sequential letters `Right-Angled Triangle`"
   ]
  },
  {
   "cell_type": "code",
   "execution_count": 46,
   "id": "afcf6ba7-2dcd-4b3f-b5af-86c9aaa5bca5",
   "metadata": {},
   "outputs": [
    {
     "name": "stdout",
     "output_type": "stream",
     "text": [
      "A \n",
      "A B \n",
      "A B C \n",
      "A B C D \n",
      "A B C D E \n",
      "A B C D E F \n"
     ]
    }
   ],
   "source": [
    "n = 6\n",
    "for i in range(0, n):\n",
    "    for j in range(0, i + 1):\n",
    "        print(chr(65 + j), end = ' ')\n",
    "    print()"
   ]
  },
  {
   "cell_type": "markdown",
   "id": "51cb34be-0437-496f-ae99-d19b53b29f23",
   "metadata": {},
   "source": [
    "## **Alphabet Pattern**: Palindrome/Mirrored letters `Right-Angled Triangle`"
   ]
  },
  {
   "cell_type": "code",
   "execution_count": 45,
   "id": "0f51070a-8d2b-4d6e-9e75-fd194a88e5ae",
   "metadata": {},
   "outputs": [
    {
     "name": "stdout",
     "output_type": "stream",
     "text": [
      "A \n",
      "A B A \n",
      "A B C B A \n",
      "A B C D C B A \n",
      "A B C D E D C B A \n"
     ]
    }
   ],
   "source": [
    "n = 5\n",
    "for i in range(0, n):\n",
    "    for j in range(0, i + 1):\n",
    "        print(chr(65 + j), end = \" \")\n",
    "    for j in range(i, 0, -1):\n",
    "        print(chr(65 + j - 1), end = \" \")\n",
    "    print()"
   ]
  },
  {
   "cell_type": "markdown",
   "id": "75b7d611-fadd-4401-8c17-71310f31b846",
   "metadata": {},
   "source": [
    "## **Alphabet Pattern**: Alternating letters `Right-Angled Triangle`"
   ]
  },
  {
   "cell_type": "code",
   "execution_count": 127,
   "id": "bd5fc24a-a4e7-43b6-b086-2c5c81aa4474",
   "metadata": {},
   "outputs": [
    {
     "name": "stdout",
     "output_type": "stream",
     "text": [
      "\n",
      "A \n",
      "B A \n",
      "A B A \n",
      "B A B A \n",
      "A B A B A \n",
      "B A B A B A \n"
     ]
    }
   ],
   "source": [
    "n = 7\n",
    "for i in range(0, n):\n",
    "    for j in range(i):\n",
    "        if (i + j) % 2 == 0:\n",
    "            print('B', end = ' ')             # Print 'B' if the sum of row and column indices is even, otherwise print 'B'\n",
    "        else:\n",
    "            print('A', end = ' ')   \n",
    "    print()"
   ]
  },
  {
   "cell_type": "markdown",
   "id": "7fb20df3-01bf-4063-be76-8d93aab7c97c",
   "metadata": {},
   "source": [
    "## **Alphabet Pattern**: Sequential letters Lowercase `Right-Angled Triangle`"
   ]
  },
  {
   "cell_type": "code",
   "execution_count": 48,
   "id": "c738c895-193e-43a2-b06d-bd55904a0719",
   "metadata": {},
   "outputs": [
    {
     "name": "stdout",
     "output_type": "stream",
     "text": [
      "a \n",
      "a b \n",
      "a b c \n",
      "a b c d \n",
      "a b c d e \n",
      "a b c d e f \n"
     ]
    }
   ],
   "source": [
    "n = 6\n",
    "for i in range(0, n):\n",
    "    for j in range(i + 1):\n",
    "        print(chr(97 + j), end = ' ')\n",
    "    print()"
   ]
  },
  {
   "cell_type": "markdown",
   "id": "40b6135e-5f94-4f0f-80de-ea19656449d3",
   "metadata": {},
   "source": [
    "## **Alphabet Pattern**: Sequential letters `Inverted Right-Angled Triangle`"
   ]
  },
  {
   "cell_type": "code",
   "execution_count": 372,
   "id": "5ec7cc9a-3e95-47e3-801f-a9003ad6d4a7",
   "metadata": {},
   "outputs": [
    {
     "name": "stdout",
     "output_type": "stream",
     "text": [
      "A B C D E F \n",
      "A B C D E \n",
      "A B C D \n",
      "A B C \n",
      "A B \n",
      "A \n"
     ]
    }
   ],
   "source": [
    "n = 5\n",
    "for i in range(n, -1, -1):\n",
    "    for j in range(i + 1):\n",
    "        print(chr(65 + j), end=' ')\n",
    "    print()"
   ]
  },
  {
   "cell_type": "markdown",
   "id": "6fd98d40-b0da-4a35-84ce-1c228389d6d3",
   "metadata": {},
   "source": [
    "## **Alphabet Pattern**: Repeating letters `Pyramid`"
   ]
  },
  {
   "cell_type": "code",
   "execution_count": 15,
   "id": "89e952ed-1f44-4789-abf6-85961d438b10",
   "metadata": {},
   "outputs": [
    {
     "name": "stdout",
     "output_type": "stream",
     "text": [
      "         A \n",
      "        B B \n",
      "       C C C \n",
      "      D D D D \n",
      "     E E E E E \n",
      "    F F F F F F \n",
      "   G G G G G G G \n",
      "  H H H H H H H H \n"
     ]
    }
   ],
   "source": [
    "n = 8\n",
    "for i in range(0, n):\n",
    "    print(' ' * (n - i), end = ' ')\n",
    "    for j in range(i + 1):\n",
    "        print(chr(65 + i), end = ' ')\n",
    "    print()"
   ]
  },
  {
   "cell_type": "markdown",
   "id": "1df9021c-3491-4969-922b-8f33e11331f8",
   "metadata": {},
   "source": [
    "## **Alphabet Pattern**: Centered letters `Pyramid`"
   ]
  },
  {
   "cell_type": "code",
   "execution_count": 14,
   "id": "012ef1f9-f918-4ebb-9159-c23d69265045",
   "metadata": {},
   "outputs": [
    {
     "name": "stdout",
     "output_type": "stream",
     "text": [
      "         A \n",
      "        A B \n",
      "       A B C \n",
      "      A B C D \n",
      "     A B C D E \n",
      "    A B C D E F \n",
      "   A B C D E F G \n",
      "  A B C D E F G H \n"
     ]
    }
   ],
   "source": [
    "n = 8\n",
    "for i in range(0, n):\n",
    "    print(' ' * (n - i), end = ' ')\n",
    "    for j in range(i + 1):\n",
    "        print(chr(65 + j), end = ' ')\n",
    "    print()"
   ]
  },
  {
   "cell_type": "markdown",
   "id": "bb57586d-97e2-4284-b4ce-61bda276f05e",
   "metadata": {},
   "source": [
    "## **Alphabet Pattern**: Sequential letters `Pyramid`"
   ]
  },
  {
   "cell_type": "code",
   "execution_count": 123,
   "id": "479a3d15-6150-45f7-9a44-fd542ea37fe6",
   "metadata": {},
   "outputs": [
    {
     "name": "stdout",
     "output_type": "stream",
     "text": [
      "                 A \n",
      "               A B C \n",
      "             A B C D E \n",
      "           A B C D E F G \n",
      "         A B C D E F G H I \n",
      "       A B C D E F G H I J K \n",
      "     A B C D E F G H I J K L M \n",
      "   A B C D E F G H I J K L M N O \n"
     ]
    }
   ],
   "source": [
    "n = 8\n",
    "for i in range(0, n):\n",
    "    print('  ' * (n - i), end=' ')\n",
    "    for j in range(2 * i + 1):\n",
    "        print(chr(65 + j), end=' ')\n",
    "    print()"
   ]
  },
  {
   "cell_type": "markdown",
   "id": "e3a7a083-8aa6-4e7c-b688-4bfadf071890",
   "metadata": {},
   "source": [
    "## **Alphabet Pattern**: Sequential letters `Inverted Pyramid`"
   ]
  },
  {
   "cell_type": "code",
   "execution_count": 11,
   "id": "9b5e2d86-1cac-4b5d-ac1a-a00a30fc959c",
   "metadata": {},
   "outputs": [
    {
     "name": "stdout",
     "output_type": "stream",
     "text": [
      " A B C D E F G H I J K L M N O \n",
      "   A B C D E F G H I J K L M \n",
      "     A B C D E F G H I J K \n",
      "       A B C D E F G H I \n",
      "         A B C D E F G \n",
      "           A B C D E \n",
      "             A B C \n",
      "               A \n"
     ]
    }
   ],
   "source": [
    "n = 8\n",
    "for i in range(n, 0, -1):\n",
    "    print('  ' * (n - i), end=' ')\n",
    "    for j in range(2 * i - 1):\n",
    "        print(chr(65 + j), end=' ')\n",
    "    print()"
   ]
  },
  {
   "cell_type": "markdown",
   "id": "710910d8-a454-46c0-96ca-6f341d6be110",
   "metadata": {},
   "source": [
    "## **Alphabet Pattern**: Sequential letters `Diamond`"
   ]
  },
  {
   "cell_type": "code",
   "execution_count": 525,
   "id": "e1f80748-8f71-41e2-b33e-1c67350a7746",
   "metadata": {},
   "outputs": [
    {
     "name": "stdout",
     "output_type": "stream",
     "text": [
      "                 A \n",
      "               A B C \n",
      "             A B C D E \n",
      "           A B C D E F G \n",
      "         A B C D E F G H I \n",
      "       A B C D E F G H I J K \n",
      "     A B C D E F G H I J K L M \n",
      "   A B C D E F G H I J K L M N O \n",
      "     A B C D E F G H I J K L M \n",
      "       A B C D E F G H I J K \n",
      "         A B C D E F G H I \n",
      "           A B C D E F G \n",
      "             A B C D E \n",
      "               A B C \n",
      "                 A \n"
     ]
    }
   ],
   "source": [
    "n = 8\n",
    "for i in range(0, n):\n",
    "    print('  ' * (n - i), end=' ')\n",
    "    for j in range(2 * i + 1):\n",
    "        print(chr(65 + j), end=' ')\n",
    "    print()\n",
    "\n",
    "for i in range(n - 1, 0, -1):\n",
    "    print('  ' * (n - i + 1), end=' ')\n",
    "    for j in range(2 * i - 1):\n",
    "        print(chr(65 + j), end=' ')\n",
    "    print()"
   ]
  },
  {
   "cell_type": "markdown",
   "id": "65f3310f-51de-4548-8635-aabaf703b8f6",
   "metadata": {},
   "source": [
    "## **Alphabet Pattern**: Zig-Zag/Snake like flow `Right-Angled Triangle`"
   ]
  },
  {
   "cell_type": "code",
   "execution_count": 64,
   "id": "b6220a83-bfe6-433f-be1c-b8aad8931365",
   "metadata": {},
   "outputs": [
    {
     "name": "stdout",
     "output_type": "stream",
     "text": [
      "A \n",
      "C B \n",
      "D E F \n",
      "J I H G \n",
      "K L M N O \n",
      "U T S R Q P \n"
     ]
    }
   ],
   "source": [
    "n = 6                                                # Number of rows\n",
    "\n",
    "ascii_value = 65                                     # ASCII value of 'A'\n",
    "current_letter = ascii_value                         # Initialize a variable to track the current letter\n",
    "for i in range(n):                                   # Loop through each row\n",
    "    if i % 2 == 0:                                   # Print the current row in left-to-right order for even rows\n",
    "        for j in range(i + 1):\n",
    "            print(chr(current_letter), end=\" \")\n",
    "            current_letter += 1\n",
    "    else:                                            # Print the current row in right-to-left order for odd rows\n",
    "        temp = current_letter + i\n",
    "        for j in range(i + 1):\n",
    "            print(chr(temp), end=\" \")\n",
    "            temp -= 1\n",
    "        current_letter += i + 1\n",
    "\n",
    "    print()                                          # Move to the next line after each row"
   ]
  },
  {
   "cell_type": "markdown",
   "id": "1db6f256-d64a-4c4e-a40c-3be0c50f81c6",
   "metadata": {},
   "source": [
    "## **Mixed Pattern**: Stars (*) and Numbers `Right-Angled Triangle`"
   ]
  },
  {
   "cell_type": "code",
   "execution_count": 99,
   "id": "60c35db5-a7e1-4f51-a7fb-38bcb44a9379",
   "metadata": {},
   "outputs": [
    {
     "name": "stdout",
     "output_type": "stream",
     "text": [
      "\n",
      "1 * \n",
      "1 * 2 * \n",
      "1 * 2 * 3 * \n",
      "1 * 2 * 3 * 4 * \n",
      "1 * 2 * 3 * 4 * 5 * \n",
      "1 * 2 * 3 * 4 * 5 * 6 * \n",
      "1 * 2 * 3 * 4 * 5 * 6 * 7 * \n",
      "1 * 2 * 3 * 4 * 5 * 6 * 7 * 8 * \n"
     ]
    }
   ],
   "source": [
    "for i in range(1, 10):\n",
    "    for j in range(1, i):      \n",
    "        print(j, end = \" \")\n",
    "        print('*', end = \" \")\n",
    "    print()"
   ]
  },
  {
   "cell_type": "markdown",
   "id": "a29146ae-736f-4086-9d50-09771a2ae958",
   "metadata": {},
   "source": [
    "## **Number Pattern**: Hollow `Pyramid`"
   ]
  },
  {
   "cell_type": "code",
   "execution_count": 106,
   "id": "528a201e-a08e-433a-a8b2-45d34e83b650",
   "metadata": {},
   "outputs": [
    {
     "name": "stdout",
     "output_type": "stream",
     "text": [
      "     1\n",
      "    2 2\n",
      "   3   3\n",
      "  4     4\n",
      " 5       5\n",
      "6         6\n"
     ]
    }
   ],
   "source": [
    "rows = 6\n",
    "\n",
    "for i in range(1, rows + 1):                 # Printing the hollow pyramid of numbers\n",
    "    for j in range(rows - i):                # Printing spaces to center-align the numbers\n",
    "        print(' ', end='')\n",
    "\n",
    "    for j in range(1, 2 * i):                # Printing numbers with hollow spaces in between \n",
    "        if j == 1 or j == 2 * i - 1:         # Print the number only at the boundaries\n",
    "            print(i, end='')\n",
    "        else:\n",
    "            print(' ', end='')\n",
    "    print()                                  # Move to the next line"
   ]
  },
  {
   "cell_type": "markdown",
   "id": "1bbb128b-06d3-46ee-b19a-4c638086f0ff",
   "metadata": {},
   "source": [
    "## **Star Pattern**: Hollow `Pyramid`"
   ]
  },
  {
   "cell_type": "code",
   "execution_count": 118,
   "id": "6aa5fec4-899d-482e-8a2d-5a09977323d1",
   "metadata": {},
   "outputs": [
    {
     "name": "stdout",
     "output_type": "stream",
     "text": [
      "     *\n",
      "    * *\n",
      "   *   *\n",
      "  *     *\n",
      " *       *\n",
      "*         *\n"
     ]
    }
   ],
   "source": [
    "rows = 6\n",
    "\n",
    "for i in range(1, rows + 1):                 # Printing the hollow pyramid of stars\n",
    "    for j in range(rows - i):                # Printing spaces to center-align the stars\n",
    "        print(' ', end='')\n",
    "\n",
    "    for j in range(1, 2 * i):                # Printing stars with hollow spaces in between\n",
    "        if j == 1 or j == 2 * i - 1:         # Print stars only at the boundaries\n",
    "            print('*', end='')\n",
    "        else:\n",
    "            print(' ', end='')\n",
    "    print()                                  # Move to the next line"
   ]
  },
  {
   "cell_type": "markdown",
   "id": "bf3e085b-edff-45cc-ae61-6403991c75ea",
   "metadata": {},
   "source": [
    "## **Star Pattern**: Hollow `Diamond`"
   ]
  },
  {
   "cell_type": "code",
   "execution_count": 128,
   "id": "a13c2dd4-55dd-4346-9dc1-1a1b010167dd",
   "metadata": {},
   "outputs": [
    {
     "name": "stdout",
     "output_type": "stream",
     "text": [
      "       *\n",
      "      * *\n",
      "     *   *\n",
      "    *     *\n",
      "   *       *\n",
      "  *         *\n",
      " *           *\n",
      "*             *\n",
      " *           *\n",
      "  *         *\n",
      "   *       *\n",
      "    *     *\n",
      "     *   *\n",
      "      * *\n",
      "       *\n"
     ]
    }
   ],
   "source": [
    "rows = 8\n",
    "\n",
    "for i in range(1, rows + 1):\n",
    "    for j in range(rows - i):\n",
    "        print(' ', end='')\n",
    "\n",
    "    for j in range(1, 2 * i):\n",
    "        if j == 1 or j == 2 * i - 1:\n",
    "            print('*', end='')\n",
    "        else:\n",
    "            print(' ', end='')\n",
    "    print()\n",
    "\n",
    "                                         # Inverted Hollow Pyramid\n",
    "\n",
    "for i in range(rows - 1, 0, -1):         # Need to change/reverse this outer loop only, rest lines will be same\n",
    "    for j in range(rows - i):\n",
    "        print(' ', end='')\n",
    "\n",
    "    for j in range(1, 2 * i):\n",
    "        if j == 1 or j == 2 * i - 1:\n",
    "            print('*', end='')\n",
    "        else:\n",
    "            print(' ', end='')\n",
    "    print()"
   ]
  },
  {
   "cell_type": "markdown",
   "id": "ce2de086-3b55-4e07-a94b-ccd2d94e620d",
   "metadata": {},
   "source": [
    "## Mixed Patterns: Butterflies"
   ]
  },
  {
   "cell_type": "code",
   "execution_count": 129,
   "id": "3d0eeef1-021f-4c12-bddb-1ac66f958d91",
   "metadata": {},
   "outputs": [
    {
     "name": "stdout",
     "output_type": "stream",
     "text": [
      " 1                  1 \n",
      " 1 2              2 1 \n",
      " 1 2 3          3 2 1 \n",
      " 1 2 3 4      4 3 2 1 \n",
      " 1 2 3 4 5  5 4 3 2 1 \n",
      " 1 2 3 4      4 3 2 1 \n",
      " 1 2 3          3 2 1 \n",
      " 1 2              2 1 \n",
      " 1                  1 \n",
      "\n",
      "\n",
      " *                  * \n",
      " * *              * * \n",
      " * * *          * * * \n",
      " * * * *      * * * * \n",
      " * * * * *  * * * * * \n",
      " * * * *      * * * * \n",
      " * * *          * * * \n",
      " * *              * * \n",
      " *                  * \n",
      "\n",
      "\n",
      " A                  A \n",
      " A B              B A \n",
      " A B C          C B A \n",
      " A B C D      D C B A \n",
      " A B C D E  E D C B A \n",
      " A B C D      D C B A \n",
      " A B C          C B A \n",
      " A B              B A \n",
      " A                  A \n"
     ]
    }
   ],
   "source": [
    "def triangle(n):\n",
    "\n",
    "    for i in range(1, n + 1):\n",
    "      print('' * (n-i), end = ' ')          # Adjust SPACES to make RIGHT-ANGLED TRIANGLE from left, PYRAMID, RIGHT-ANGLED TRIANGLE from right\n",
    "      for j in range(1, i + 1):\n",
    "            print(j, end = ' ')\n",
    "      print('    ' * (n-i), end = ' ')\n",
    "      for j in range(i, 0, -1):\n",
    "            print(j, end = ' ')\n",
    "      print()\n",
    "    \n",
    "    for i in range(n-1, 0, -1):\n",
    "      print('' * (n-i), end = ' ')\n",
    "      for j in range(1, i + 1):\n",
    "            print(j, end = ' ')\n",
    "      print('    ' * (n-i), end = ' ')\n",
    "      for j in range(i, 0, -1):\n",
    "            print(j, end = ' ')\n",
    "      print()\n",
    "    \n",
    "\n",
    "    print('\\n')\n",
    "\n",
    "\n",
    "    for i in range(1, n + 1):\n",
    "      print('' * (n-i), end = ' ')          # Adjust SPACES to make RIGHT-ANGLED TRIANGLE from left, PYRAMID, RIGHT-ANGLED TRIANGLE from right\n",
    "      for j in range(1, i + 1):\n",
    "            print(\"*\", end = ' ')\n",
    "      print('    ' * (n-i), end = ' ')\n",
    "      for j in range(i, 0, -1):\n",
    "            print(\"*\", end = ' ')\n",
    "      print()\n",
    "\n",
    "    for i in range(n-1, 0, -1):\n",
    "      print('' * (n-i), end = ' ')\n",
    "      for j in range(1, i + 1):\n",
    "            print(\"*\", end = ' ')\n",
    "      print('    ' * (n-i), end = ' ')\n",
    "      for j in range(i, 0, -1):\n",
    "            print(\"*\", end = ' ')\n",
    "      print()\n",
    "    \n",
    "    print('\\n')\n",
    "\n",
    "\n",
    "    for i in range(1, n + 1):\n",
    "      print('' * (n-i), end = ' ')          # Adjust SPACES to make RIGHT-ANGLED TRIANGLE from left, PYRAMID, RIGHT-ANGLED TRIANGLE from right\n",
    "      for j in range(1, i + 1):\n",
    "            print(chr(j + 64), end = ' ')\n",
    "      print('    ' * (n-i), end = ' ')\n",
    "      for j in range(i, 0, -1):\n",
    "            print(chr(j + 64), end = ' ')\n",
    "      print()\n",
    "\n",
    "    for i in range(n-1, 0, -1):\n",
    "      print('' * (n-i), end = ' ')\n",
    "      for j in range(1, i + 1):\n",
    "            print(chr(j + 64), end = ' ')\n",
    "      print('    ' * (n-i), end = ' ')\n",
    "      for j in range(i, 0, -1):\n",
    "            print(chr(j + 64), end = ' ')\n",
    "      print()\n",
    "\n",
    "\n",
    "row =  5           # int(input(\"Please enter the number of rows: \"))\n",
    "triangle(row)"
   ]
  },
  {
   "cell_type": "markdown",
   "id": "8fdcc2ff-e2e1-4121-a778-85457de52a56",
   "metadata": {},
   "source": [
    "### Arithmetical Operations: Addition (+), Subtraction (-), Product (*), Division (/), Remainder (%), Quotient (//)"
   ]
  },
  {
   "cell_type": "code",
   "execution_count": 140,
   "id": "0b6b76ac-1879-49a1-b508-cd74860b0ef4",
   "metadata": {},
   "outputs": [
    {
     "name": "stdin",
     "output_type": "stream",
     "text": [
      "Enter the number:  45\n",
      "Enter the number:  3\n"
     ]
    },
    {
     "name": "stdout",
     "output_type": "stream",
     "text": [
      "Sum 45.0 + 3.0 = 48.0\n",
      "Subtraction 45.0 - 3.0 = 42.0\n",
      "Product 45.0 * 3.0 = 135.0\n"
     ]
    }
   ],
   "source": [
    "x = float(input(\"Enter the number: \"))\n",
    "y = float(input(\"Enter the number: \"))\n",
    "z = x + y\n",
    "print(f\"Sum {x} + {y} = {z}\")\n",
    "\n",
    "a = x - y\n",
    "print(f\"Subtraction {x} - {y} = {a}\")\n",
    "\n",
    "b = x * y\n",
    "print(f\"Product {x} * {y} = {b}\")"
   ]
  },
  {
   "cell_type": "code",
   "execution_count": 141,
   "id": "23222ff5-b8c4-43cf-8edc-20a2ce2a4c51",
   "metadata": {},
   "outputs": [
    {
     "name": "stdin",
     "output_type": "stream",
     "text": [
      "Enter the number:  45\n",
      "Enter the number:  7\n"
     ]
    },
    {
     "name": "stdout",
     "output_type": "stream",
     "text": [
      "Division: 45.0 / 7.0 = 6.43\n",
      "Remainder: 45.0 % 7.0 = 3.0\n",
      "Quotient: 45.0 // 7.0 = 6.0\n"
     ]
    }
   ],
   "source": [
    "x = float(input(\"Enter the number: \"))\n",
    "y = float(input(\"Enter the number: \"))\n",
    "\n",
    "if y == 0:\n",
    "    print(\"Error: Denominator should not be ZERO\")\n",
    "\n",
    "else:\n",
    "    z = x/y\n",
    "    print(f\"Division: {x} / {y} = {z:.2f}\")             # Used '.2f' to keep 2 digits after decimal\n",
    "\n",
    "    a = x%y\n",
    "    print(f\"Remainder: {x} % {y} = {a}\")\n",
    "\n",
    "    b = x//y\n",
    "    print(f\"Quotient: {x} // {y} = {b}\")"
   ]
  },
  {
   "cell_type": "markdown",
   "id": "4fed131f-880f-410d-a57c-4dc4c2b070db",
   "metadata": {},
   "source": [
    "## Generate a random numbers"
   ]
  },
  {
   "cell_type": "code",
   "execution_count": 143,
   "id": "6246cd93-314f-401a-b01f-d35f03f4ccb3",
   "metadata": {},
   "outputs": [
    {
     "name": "stdout",
     "output_type": "stream",
     "text": [
      "Random Number = 54\n",
      "Random Number = 3\n",
      "Random Number = 156\n"
     ]
    }
   ],
   "source": [
    "import random\n",
    "x = random.randint(1, 100)              # Any single Random Number between 1 to 100\n",
    "\n",
    "y = random.randint(1, 10)               # Any single Random Number between 1 to 10\n",
    "\n",
    "z = random.randint(150, 200)            # Any single Random Number between 150 to 200\n",
    "\n",
    "print(f\"Random Number = {x}\")\n",
    "print(f\"Random Number = {y}\")\n",
    "print(f\"Random Number = {z}\")"
   ]
  }
 ],
 "metadata": {
  "kernelspec": {
   "display_name": "Python 3 (ipykernel)",
   "language": "python",
   "name": "python3"
  },
  "language_info": {
   "codemirror_mode": {
    "name": "ipython",
    "version": 3
   },
   "file_extension": ".py",
   "mimetype": "text/x-python",
   "name": "python",
   "nbconvert_exporter": "python",
   "pygments_lexer": "ipython3",
   "version": "3.12.5"
  }
 },
 "nbformat": 4,
 "nbformat_minor": 5
}
