{
 "cells": [
  {
   "cell_type": "markdown",
   "id": "690d350f-cf40-4ba8-ac91-5056060d82cd",
   "metadata": {},
   "source": [
    "## Students Grade in Examination"
   ]
  },
  {
   "cell_type": "code",
   "execution_count": 1,
   "id": "26a1a5ec-e49e-4db0-ad49-a69c622742d3",
   "metadata": {},
   "outputs": [
    {
     "name": "stdin",
     "output_type": "stream",
     "text": [
      "Enter Marks Percentage:  65\n"
     ]
    },
    {
     "name": "stdout",
     "output_type": "stream",
     "text": [
      "Student Grade is: First Class\n"
     ]
    }
   ],
   "source": [
    "marks=int(input(\"Enter Marks Percentage: \"))\n",
    "\n",
    "if(marks>=70 and marks<=100):\n",
    "  print(\"Student Grade is: Distinction\")\n",
    "elif(marks>=60 and marks<=69):\n",
    "  print(\"Student Grade is: First Class\")\n",
    "elif(marks>=50 and marks<=59):\n",
    "  print(\"Student Grade is: Second Class\")\n",
    "elif(marks>=40 and marks<=49):\n",
    "  print(\"Student Grade is: Third Class\")\n",
    "elif(marks>=0 and marks<=39):\n",
    "  print(\"Student Grade is: Fail\")\n",
    "else:\n",
    "  print(\"Invalid Marks\")"
   ]
  },
  {
   "cell_type": "markdown",
   "id": "8c3d2781-c488-418e-9f66-96a814c796f0",
   "metadata": {},
   "source": [
    "## Area of a Triangle"
   ]
  },
  {
   "cell_type": "code",
   "execution_count": 2,
   "id": "5160f7a1-eb07-4f62-91b4-420142dbf6d3",
   "metadata": {},
   "outputs": [
    {
     "name": "stdin",
     "output_type": "stream",
     "text": [
      "Enter the value of base:  34\n",
      "Enter the value of height:  45\n"
     ]
    },
    {
     "name": "stdout",
     "output_type": "stream",
     "text": [
      "Area of Triangle  765.0\n"
     ]
    }
   ],
   "source": [
    "base=float(input(\"Enter the value of base: \"))\n",
    "height=float(input(\"Enter the value of height: \"))\n",
    "area=(1/2)*base*height\n",
    "print(\"Area of Triangle \",area)"
   ]
  },
  {
   "cell_type": "markdown",
   "id": "ade2e1ce-8070-4d87-ba87-8f056561d199",
   "metadata": {},
   "source": [
    "## Sum of Numbers"
   ]
  },
  {
   "cell_type": "code",
   "execution_count": 3,
   "id": "deb41c50-4484-495f-a898-131357f2c6e5",
   "metadata": {},
   "outputs": [
    {
     "name": "stdin",
     "output_type": "stream",
     "text": [
      "value of x:  8\n",
      "value of y:  7\n",
      "value of z:  3\n"
     ]
    },
    {
     "name": "stdout",
     "output_type": "stream",
     "text": [
      "18.0\n"
     ]
    }
   ],
   "source": [
    "x,y,z=float(input(\"value of x: \")), float(input(\"value of y: \")), float(input(\"value of z: \"))\n",
    "a = x + y + z\n",
    "print(a)"
   ]
  },
  {
   "cell_type": "markdown",
   "id": "366df5e3-5c66-4226-a229-b1a8b75c07ba",
   "metadata": {},
   "source": [
    "## Weather of Cities"
   ]
  },
  {
   "cell_type": "code",
   "execution_count": 4,
   "id": "a203b0c4-c655-415f-9219-9894aebae09d",
   "metadata": {},
   "outputs": [
    {
     "name": "stdin",
     "output_type": "stream",
     "text": [
      "Enter city name:  sonal\n"
     ]
    },
    {
     "name": "stdout",
     "output_type": "stream",
     "text": [
      "Error: city not found\n"
     ]
    }
   ],
   "source": [
    "import requests\n",
    "\n",
    "def get_weather(city):\n",
    "    api_key = \"93ba6b8a1f1c8741bd71801edd005b70\"\n",
    "    base_url = f'http://api.openweathermap.org/data/2.5/weather?q={city}&appid={api_key}&units=metric'\n",
    "    response = requests.get(base_url)\n",
    "    data = response.json()\n",
    "\n",
    "    if data['cod'] == 200:\n",
    "        weather_description = data['weather'][0]['description']\n",
    "        temperature = data['main']['temp']\n",
    "        humidity = data['main']['humidity']\n",
    "        wind_speed = data['wind']['speed']\n",
    "\n",
    "        print(f\"Weather in {city}:\")\n",
    "        print(f\"Description: {weather_description}\")\n",
    "        print(f\"Temperature: {temperature} °C\")\n",
    "        print(f\"Humidity: {humidity}%\")\n",
    "        print(f\"Wind Speed: {wind_speed} m/s\")\n",
    "    else:\n",
    "        print(f\"Error: {data['message']}\")\n",
    "\n",
    "if __name__ == \"__main__\":\n",
    "    city = input(\"Enter city name: \")\n",
    "    get_weather(city)"
   ]
  },
  {
   "cell_type": "markdown",
   "id": "fe0ad125-d8cd-444b-b560-af8b3cecf35e",
   "metadata": {},
   "source": [
    "## Aggregate Functions"
   ]
  },
  {
   "cell_type": "code",
   "execution_count": 7,
   "id": "50bb284f-2887-4d4f-9052-80288bec79d6",
   "metadata": {},
   "outputs": [
    {
     "name": "stdin",
     "output_type": "stream",
     "text": [
      "Please enter the numbers separated by space:  23.8 34.9 43.3 32.6 17.4 28.5\n"
     ]
    },
    {
     "name": "stdout",
     "output_type": "stream",
     "text": [
      "Addition of all numbers are: 180.5\n",
      "Ascending order: [17.4, 23.8, 28.5, 32.6, 34.9, 43.3]\n",
      "Descending order: [43.3, 34.9, 32.6, 28.5, 23.8, 17.4]\n",
      "minimum value is: 17.4\n",
      "maximum value is: 43.3\n"
     ]
    }
   ],
   "source": [
    "x = list(map(float, input(\"Please enter the numbers separated by space: \").split()))\n",
    "print(\"Addition of all numbers are:\",sum(x))             # Sum of a list\n",
    "print(\"Ascending order:\",sorted(x))                      # Ascending order of a list\n",
    "print(\"Descending order:\",sorted(x,reverse=True))        # Descending order of a list\n",
    "print(\"minimum value is:\",min(x))                        # Minimum value of a list\n",
    "print(\"maximum value is:\",max(x))                        # Maximum value of a list"
   ]
  },
  {
   "cell_type": "markdown",
   "id": "eaac0d83-cf59-460d-9387-6a6eaab58bf9",
   "metadata": {},
   "source": [
    "## Table of integers"
   ]
  },
  {
   "cell_type": "code",
   "execution_count": 11,
   "id": "7673019d-4661-4878-a391-64633504b703",
   "metadata": {},
   "outputs": [
    {
     "name": "stdin",
     "output_type": "stream",
     "text": [
      "Enter the number:  9\n"
     ]
    },
    {
     "name": "stdout",
     "output_type": "stream",
     "text": [
      "Table of 9 = 9 | 18 | 27 | 36 | 45 | 54 | 63 | 72 | 81 | 90 | "
     ]
    }
   ],
   "source": [
    "a=int(input('Enter the number: '))\n",
    "print('Table of',a,'=',end=' ')\n",
    "for i in range(1,11):\n",
    "  print(a*i,end=' | ')"
   ]
  },
  {
   "cell_type": "markdown",
   "id": "6462b171-7ac0-4433-8b52-c00f5ea86ab6",
   "metadata": {},
   "source": [
    "## Rock, Paper & Scissors Game"
   ]
  },
  {
   "cell_type": "code",
   "execution_count": 14,
   "id": "1d3b7e95-09f3-43c1-837e-77222d785345",
   "metadata": {},
   "outputs": [
    {
     "name": "stdin",
     "output_type": "stream",
     "text": [
      "Enter your choice ('rock', 'paper', 'scissors') :  rock\n"
     ]
    },
    {
     "name": "stdout",
     "output_type": "stream",
     "text": [
      "Player : rock\n",
      "Computer : rock\n",
      "It's a tie!\n"
     ]
    },
    {
     "name": "stdin",
     "output_type": "stream",
     "text": [
      "Do you want to play again(y/n) : n\n"
     ]
    },
    {
     "name": "stdout",
     "output_type": "stream",
     "text": [
      "Thanks for playing!\n"
     ]
    }
   ],
   "source": [
    "import random\n",
    "\n",
    "options = ('rock', 'paper', 'scissors')\n",
    "running = True\n",
    "\n",
    "while running:\n",
    "\n",
    "    player = None\n",
    "    computer = random.choice(options)\n",
    "\n",
    "    while player not in options:\n",
    "        player = input(\"Enter your choice ('rock', 'paper', 'scissors') : \")\n",
    "\n",
    "    print(f'Player : {player}')\n",
    "    print(f'Computer : {computer}')\n",
    "\n",
    "    if player == computer:\n",
    "        print(\"It's a tie!\")\n",
    "    elif player == 'rock' and computer == 'scissors':\n",
    "        print(\"You win!\")\n",
    "    elif player == 'paper' and computer == 'rock':\n",
    "        print(\"You win!\")\n",
    "    elif player == 'scissors' and computer == 'paper':\n",
    "        print(\"You win!\")\n",
    "    else:\n",
    "        print(\"You lose!\")\n",
    "\n",
    "    \n",
    "    play_again = input('Do you want to play again(y/n) :').lower()\n",
    "\n",
    "    if play_again != 'y':\n",
    "        running = False\n",
    "\n",
    "print('Thanks for playing!')"
   ]
  },
  {
   "cell_type": "markdown",
   "id": "05747935-6d54-4b10-9903-a57a39f99b99",
   "metadata": {},
   "source": [
    "## Combining Dictionaries"
   ]
  },
  {
   "cell_type": "code",
   "execution_count": 1,
   "id": "7664b4c9-8c40-44ee-b539-101a3bf4c590",
   "metadata": {},
   "outputs": [
    {
     "name": "stdout",
     "output_type": "stream",
     "text": [
      "{'a': 1, 'b': 2, 'c': 3}\n"
     ]
    }
   ],
   "source": [
    "dict_1 = {'a' : 1,'b': 2}      # Dictionary 1\n",
    "dict_2 ={'c':3}                # Dictionary 2\n",
    "combine = dict_1 | dict_2      # Combining both dictionaries\n",
    "print(combine)"
   ]
  },
  {
   "cell_type": "markdown",
   "id": "b5f4c569-aa83-451d-96ec-2e4e6174cb98",
   "metadata": {},
   "source": [
    "## Replacing item(s) in a Tuple"
   ]
  },
  {
   "cell_type": "code",
   "execution_count": 2,
   "id": "34c91b45-0c6d-4345-8c8a-d7031df3443a",
   "metadata": {},
   "outputs": [
    {
     "name": "stdout",
     "output_type": "stream",
     "text": [
      "('apple', 'grape', 'pear')\n"
     ]
    }
   ],
   "source": [
    "x = ('apple', 'orange', 'pear')  # Create a Tuple\n",
    "y = list(x)                      # convert into list (because tuples can't be edited)\n",
    "y[1] = 'grape'                   # Replacing 2nd item [1] of tuple ('orange' to 'grape')\n",
    "x = tuple(y)\n",
    "print(x)"
   ]
  },
  {
   "cell_type": "markdown",
   "id": "a10c9851-58cb-4c91-b94b-186eb2ae3425",
   "metadata": {},
   "source": [
    "## Checking current Date & Time"
   ]
  },
  {
   "cell_type": "code",
   "execution_count": 15,
   "id": "208e225a-da7e-4a70-b10b-93c7b9c9081c",
   "metadata": {},
   "outputs": [
    {
     "name": "stdout",
     "output_type": "stream",
     "text": [
      "2024-09-03 23:26:29.031583\n"
     ]
    }
   ],
   "source": [
    "import datetime as dt\n",
    "print(dt.datetime.now())"
   ]
  },
  {
   "cell_type": "markdown",
   "id": "3844e4ca-5417-4452-8b88-0fb452c38a2b",
   "metadata": {},
   "source": [
    "## Removing before and after whitespaces"
   ]
  },
  {
   "cell_type": "code",
   "execution_count": 17,
   "id": "8a097aff-ea15-4856-ada9-b677afb41581",
   "metadata": {},
   "outputs": [
    {
     "name": "stdout",
     "output_type": "stream",
     "text": [
      "Hello Python!\n"
     ]
    }
   ],
   "source": [
    "string = \"      Hello Python!   \"\n",
    "print(string.strip())"
   ]
  },
  {
   "cell_type": "markdown",
   "id": "ab1ea017-c08b-436d-8596-13f5ea029cb8",
   "metadata": {},
   "source": [
    "## Count the items of **List** and **Tuple**"
   ]
  },
  {
   "cell_type": "code",
   "execution_count": 25,
   "id": "e320c811-ea99-4708-beb6-1add379e3b0c",
   "metadata": {},
   "outputs": [
    {
     "name": "stdout",
     "output_type": "stream",
     "text": [
      "3\n",
      "2\n",
      "3\n"
     ]
    }
   ],
   "source": [
    "list1 = [\"red\",\"blue\",\"green\",\"red\",\"yellow\",\"blue\",\"red\"]\n",
    "tuple1 = (5, 6, 3, 'B', 'c', 5, 6, 5, 'b', 'D', 'B', 5)\n",
    "list2 = ['Plus', 'Minus', 'Divide', 'Plus', 'Multiply', 'Off', 'Minus', 'Plus', 'Divide']\n",
    "list_count = list1.count('red')\n",
    "tuple_count = tuple1.count('B')\n",
    "set_count = list2.count('Plus')\n",
    "print(list_count)\n",
    "print(tuple_count)\n",
    "print(set_count)"
   ]
  },
  {
   "cell_type": "markdown",
   "id": "7b5184a1-a643-4521-a258-d272066a22cf",
   "metadata": {},
   "source": [
    "## Removing '@' from email_ID"
   ]
  },
  {
   "cell_type": "code",
   "execution_count": 26,
   "id": "3e17751b-221c-4e3c-9b30-cee58c4f904a",
   "metadata": {},
   "outputs": [
    {
     "name": "stdin",
     "output_type": "stream",
     "text": [
      "Enter email address:  alam.mdimtiyaz085@gmail.com\n"
     ]
    },
    {
     "name": "stdout",
     "output_type": "stream",
     "text": [
      "Text before @:  alam.mdimtiyaz085\n"
     ]
    }
   ],
   "source": [
    "def remv_sp_char(mail):\n",
    "    at = mail.find('@')\n",
    "    if at != -1:\n",
    "        return mail[:at]\n",
    "    else:\n",
    "        return \"invalid\"\n",
    "\n",
    "mail = input(\"Enter email address: \")\n",
    "print(\"Text before @: \", remv_sp_char(mail))"
   ]
  },
  {
   "cell_type": "markdown",
   "id": "d66d0c82-4044-49dd-9214-fde4645c1be1",
   "metadata": {},
   "source": [
    "## Sum of List items"
   ]
  },
  {
   "cell_type": "code",
   "execution_count": 27,
   "id": "cf92c9c4-f3e6-447e-9f68-5553031f7942",
   "metadata": {},
   "outputs": [
    {
     "name": "stdout",
     "output_type": "stream",
     "text": [
      "Sum of the array is:  53\n",
      "<class 'list'>\n"
     ]
    }
   ],
   "source": [
    "arr = [12, 3, 4, 15, 19]\n",
    "total_sum = sum(arr)\n",
    "print('Sum of the array is: ', total_sum)\n",
    "print(type(arr))"
   ]
  },
  {
   "cell_type": "markdown",
   "id": "58b2d1ef-e2b9-4c50-b195-91c4c69e8536",
   "metadata": {},
   "source": [
    "## Sum, Average, Max, Min & Length of an Array/List"
   ]
  },
  {
   "cell_type": "code",
   "execution_count": 29,
   "id": "6e7dc1a9-307b-4864-83d1-f2ec2aa3f3e7",
   "metadata": {},
   "outputs": [
    {
     "name": "stdin",
     "output_type": "stream",
     "text": [
      "Enter numbers separated by spaces:  12 45 76 34 55\n"
     ]
    },
    {
     "name": "stdout",
     "output_type": "stream",
     "text": [
      "[12, 45, 76, 34, 55]\n",
      "5\n",
      "Sum of the array is:  222\n",
      "Average of the array is:  44.4\n"
     ]
    }
   ],
   "source": [
    "                                              # Get input from the user as a list of numbers (converted from string to integers)\n",
    "arr = list(map(int, input(\"Enter numbers separated by spaces: \").split()))\n",
    "\n",
    "sum_arr = sum(arr)                            # Calculate the sum of elements in the array/list\n",
    "count_arr = len(arr)                          # Calculate the length of the array/list\n",
    "avg_arr = sum_arr/count_arr                   # Calculate the average of elements in the array/list\n",
    "\n",
    "print(arr)                                    # Print the entered array/list\n",
    "print(count_arr)                              # Print the number of items in array/list\n",
    "print(\"Sum of the array is: \", sum_arr)       # Print the sum of the array/list elements\n",
    "print(\"Average of the array is: \", avg_arr)   # Print the average of the array/list elements"
   ]
  },
  {
   "cell_type": "code",
   "execution_count": 52,
   "id": "5f04ebc8-b3f5-4edf-b311-42c8c01e4083",
   "metadata": {},
   "outputs": [
    {
     "name": "stdin",
     "output_type": "stream",
     "text": [
      "Enter numbers separated by spaces:  21 43 24\n"
     ]
    },
    {
     "name": "stdout",
     "output_type": "stream",
     "text": [
      "List = [21, 43, 24]\n",
      "Sum of the array is: 337\n"
     ]
    }
   ],
   "source": [
    "x = input(\"Enter numbers separated by spaces: \")\n",
    "y = x.split()\n",
    "z = map(int, y)         # OR above four lines can be written in one astatement as below\n",
    "arr = list(z)           # arr = list(map(int, input(\"Enter numbers separated by spaces: \").split()))\n",
    "tot_sum = sum(arr)\n",
    "\n",
    "print(\"List =\", arr)\n",
    "print(\"Sum of the array is:\", total_sum)"
   ]
  },
  {
   "cell_type": "code",
   "execution_count": 54,
   "id": "1e61832b-0dca-410b-84bd-4287e5abdb7f",
   "metadata": {},
   "outputs": [
    {
     "name": "stdin",
     "output_type": "stream",
     "text": [
      "Enter numbers separated by space:  21 34 56 87 32\n"
     ]
    },
    {
     "name": "stdout",
     "output_type": "stream",
     "text": [
      "[21, 34, 56, 87, 32]\n",
      "230\n",
      "87\n",
      "21\n"
     ]
    }
   ],
   "source": [
    "x = input(\"Enter numbers separated by space: \")\n",
    "y = x.split()\n",
    "z = map(int, y)\n",
    "lst = list(z)\n",
    "sum_lst = sum(lst)\n",
    "max_lst = max(lst)\n",
    "min_lst = min(lst)\n",
    "print(lst)\n",
    "print(sum_lst)\n",
    "print(max_lst)\n",
    "print(min_lst)"
   ]
  },
  {
   "cell_type": "markdown",
   "id": "9bec59a5-298d-41f0-a87f-83d13c8bbac1",
   "metadata": {},
   "source": [
    "## Shifting items one place left of an array/list"
   ]
  },
  {
   "cell_type": "code",
   "execution_count": 35,
   "id": "b127f50d-fd29-49d5-ae60-79c99d8cf18e",
   "metadata": {},
   "outputs": [
    {
     "name": "stdout",
     "output_type": "stream",
     "text": [
      "2 3 4 5 5 "
     ]
    }
   ],
   "source": [
    "a = [1, 2, 3, 4, 5]\n",
    "for i in range(1, 5):\n",
    "    a[i-1] = a[i]\n",
    "for i in range(0, 5):\n",
    "    print(a[i], end = ' ')"
   ]
  },
  {
   "cell_type": "markdown",
   "id": "3434842e-af5f-40b8-b126-26c85aee0ce3",
   "metadata": {},
   "source": [
    "## Converting an Image to its **sketch**"
   ]
  },
  {
   "cell_type": "code",
   "execution_count": 11,
   "id": "14a897d3-dc10-4e75-90a5-9703ddda462a",
   "metadata": {},
   "outputs": [
    {
     "data": {
      "text/plain": [
       "True"
      ]
     },
     "execution_count": 11,
     "metadata": {},
     "output_type": "execute_result"
    }
   ],
   "source": [
    "import cv2\n",
    "image = cv2.imread(r'E:\\2nd-Laptop_Data\\img\\Dear_Ishhh..15.jpeg')\n",
    "\n",
    "grey_img = cv2.cvtColor(image, cv2.COLOR_BGR2GRAY)\n",
    "invert = cv2.bitwise_not(grey_img)\n",
    "blur = cv2.GaussianBlur(invert, (31,31),0)\n",
    "invertedblur = cv2.bitwise_not(blur)\n",
    "sketch = cv2.divide(grey_img, invertedblur, scale = 100.0)\n",
    "\n",
    "cv2.imwrite('sketch.png', sketch)"
   ]
  },
  {
   "cell_type": "markdown",
   "id": "11792fa1-8fe0-49a1-991a-938020902194",
   "metadata": {},
   "source": [
    "## Mixed Pattern: Diamonds"
   ]
  },
  {
   "cell_type": "code",
   "execution_count": 274,
   "id": "21ed93ff-8fa9-488e-bfbc-63646ab4d332",
   "metadata": {},
   "outputs": [
    {
     "name": "stdout",
     "output_type": "stream",
     "text": [
      "                                                                                  \n",
      "         A                 .                 1                 .                 a \n",
      "        A B               . .               1 2               . .               a b \n",
      "       A B C             . . .             1 2 3             . . .             a b c \n",
      "      A B C D           . . . .           1 2 3 4           . . . .           a b c d \n",
      "     A B C D E         . . . . .         1 2 3 4 5         . . . . .         a b c d e \n",
      "    A B C D E F       . . . . . .       1 2 3 4 5 6       . . . . . .       a b c d e f \n",
      "   A B C D E F G     . . . . . . .     1 2 3 4 5 6 7     . . . . . . .     a b c d e f g \n",
      "  A B C D E F G H   . . . . . . . .   1 2 3 4 5 6 7 8   . . . . . . . .   a b c d e f g h \n",
      " A B C D E F G H I . . . . . . . . . 1 2 3 4 5 6 7 8 9 . . . . . . . . . a b c d e f g h i \n",
      "  A B C D E F G H   . . . . . . . .   1 2 3 4 5 6 7 8   . . . . . . . .   a b c d e f g h \n",
      "   A B C D E F G     . . . . . . .     1 2 3 4 5 6 7     . . . . . . .     a b c d e f g \n",
      "    A B C D E F       . . . . . .       1 2 3 4 5 6       . . . . . .       a b c d e f \n",
      "     A B C D E         . . . . .         1 2 3 4 5         . . . . .         a b c d e \n",
      "      A B C D           . . . .           1 2 3 4           . . . .           a b c d \n",
      "       A B C             . . .             1 2 3             . . .             a b c \n",
      "        A B               . .               1 2               . .               a b \n",
      "         A                 .                 1                 .                 a \n"
     ]
    }
   ],
   "source": [
    "n = 9\n",
    "\n",
    "for i in range(0, n + 1):\n",
    "   print(' ' * (n - i), end = ' ')\n",
    "   for j in range(1, i + 1):\n",
    "       print(chr(j + 64), end = ' ')\n",
    "   for j in range(0, (n - i)):\n",
    "       print(' ', end = ' ')\n",
    "   for j in range(i, 0, -1):\n",
    "       print('.', '', end = '')\n",
    "   for j in range(0, (n - i)):\n",
    "       print(' ', end = ' ')\n",
    "   for j in range(1, i + 1):\n",
    "       print(j, end = ' ')\n",
    "   for j in range(0, (n - i)):\n",
    "       print(' ', end = ' ')\n",
    "   for j in range(1, i + 1):\n",
    "       print('.', end = ' ')\n",
    "   for j in range(0, (n - i)):\n",
    "       print(' ', end = ' ')\n",
    "   for j in range(1, i + 1):\n",
    "       print(chr(j + 96), end = ' ')\n",
    "   print()\n",
    "\n",
    "\n",
    "for i in range(n - 1, 0, -1):\n",
    "   print(' ' * (n - i), end = ' ')\n",
    "   for j in range(1, i + 1):\n",
    "       print(chr(j + 64), end = ' ')\n",
    "   for j in range(0, (n - i)):\n",
    "       print(' ', end = ' ')\n",
    "   for j in range(i, 0, -1):\n",
    "       print('.', '', end = '')\n",
    "   for j in range(0, (n - i)):\n",
    "       print(' ', end = ' ')\n",
    "   for j in range(1, i + 1):\n",
    "       print(j, end = ' ')\n",
    "   for j in range(0, (n - i)):\n",
    "       print(' ', end = ' ')\n",
    "   for j in range(1, i + 1):\n",
    "       print('.', end = ' ')\n",
    "   for j in range(0, (n - i)):\n",
    "       print(' ', end = ' ')\n",
    "   for j in range(1, i + 1):\n",
    "       print(chr(j + 96), end = ' ')\n",
    "   print()"
   ]
  },
  {
   "cell_type": "markdown",
   "id": "1acd782e-e50c-4acb-bfe3-6b071352d46f",
   "metadata": {},
   "source": [
    "## Mixed Pattern: Butterfly"
   ]
  },
  {
   "cell_type": "code",
   "execution_count": 272,
   "id": "f0c501ec-991e-44f8-9147-ac69d6f93ef6",
   "metadata": {},
   "outputs": [
    {
     "name": "stdout",
     "output_type": "stream",
     "text": [
      "A                                 a \n",
      "A B                             b a \n",
      "A B C                         c b a \n",
      "A B C D                     d c b a \n",
      "A B C D E                 e d c b a \n",
      "A B C D E F             f e d c b a \n",
      "A B C D E F G         g f e d c b a \n",
      "A B C D E F G H     h g f e d c b a \n",
      "A B C D E F G H I i h g f e d c b a \n",
      "A B C D E F G H     h g f e d c b a \n",
      "A B C D E F G         g f e d c b a \n",
      "A B C D E F             f e d c b a \n",
      "A B C D E                 e d c b a \n",
      "A B C D                     d c b a \n",
      "A B C                         c b a \n",
      "A B                             b a \n",
      "A                                 a \n"
     ]
    }
   ],
   "source": [
    "def print_butterfly(n):\n",
    "\n",
    "   for i in range(1, n + 1):\n",
    "      for j in range(1, i + 1):\n",
    "          print(chr(j + 64), end = ' ')\n",
    "      for j in range(0, 2*(n - i)):\n",
    "          print(' ', end = ' ')\n",
    "      for j in range(i, 0, -1):\n",
    "          print(chr(j + 96), end = ' ')\n",
    "      print()\n",
    "\n",
    "\n",
    "   for i in range(n - 1, 0, -1):\n",
    "      for j in range(1, i + 1):\n",
    "          print(chr(j + 64), end = ' ')\n",
    "      for j in range(0, 2*(n - i)):\n",
    "          print(' ', end = ' ')\n",
    "      for j in range(i, 0, -1):\n",
    "          print(chr(j + 96), end = ' ')\n",
    "      print()\n",
    "\n",
    "rows = 9\n",
    "print_butterfly(rows)"
   ]
  },
  {
   "cell_type": "markdown",
   "id": "059d6e4f-5a93-4f96-8d00-52b4133bc405",
   "metadata": {},
   "source": [
    "## Mixed Pattern: Star and Dot Diamonds"
   ]
  },
  {
   "cell_type": "code",
   "execution_count": 301,
   "id": "d9e0515d-f4c1-48c2-91e9-973cb8aaa870",
   "metadata": {},
   "outputs": [
    {
     "name": "stdout",
     "output_type": "stream",
     "text": [
      "                                                                                  \n",
      "         *                 .                 *                 .                 * \n",
      "        * *               . .               * *               . .               * * \n",
      "       * * *             . . .             * * *             . . .             * * * \n",
      "      * * * *           . . . .           * * * *           . . . .           * * * * \n",
      "     * * * * *         . . . . .         * * * * *         . . . . .         * * * * * \n",
      "    * * * * * *       . . . . . .       * * * * * *       . . . . . .       * * * * * * \n",
      "   * * * * * * *     . . . . . . .     * * * * * * *     . . . . . . .     * * * * * * * \n",
      "  * * * * * * * *   . . . . . . . .   * * * * * * * *   . . . . . . . .   * * * * * * * * \n",
      " * * * * * * * * * . . . . . . . . . * * * * * * * * * . . . . . . . . . * * * * * * * * * \n",
      "  * * * * * * * *   . . . . . . . .   * * * * * * * *   . . . . . . . .   * * * * * * * * \n",
      "   * * * * * * *     . . . . . . .     * * * * * * *     . . . . . . .     * * * * * * * \n",
      "    * * * * * *       . . . . . .       * * * * * *       . . . . . .       * * * * * * \n",
      "     * * * * *         . . . . .         * * * * *         . . . . .         * * * * * \n",
      "      * * * *           . . . .           * * * *           . . . .           * * * * \n",
      "       * * *             . . .             * * *             . . .             * * * \n",
      "        * *               . .               * *               . .               * * \n",
      "         *                 .                 *                 .                 * \n"
     ]
    }
   ],
   "source": [
    "def diamond(n):\n",
    "\n",
    " for i in range(0, n + 1):\n",
    "   print(' ' * (n - i), end = ' ')\n",
    "   for j in range(1, i + 1):\n",
    "       print('*', end = ' ')\n",
    "   for j in range(0, (n - i)):\n",
    "       print(' ', end = ' ')\n",
    "   for j in range(i, 0, -1):\n",
    "       print('.', '', end = '')\n",
    "   for j in range(0, (n - i)):\n",
    "       print(' ', end = ' ')\n",
    "   for j in range(1, i + 1):\n",
    "       print('*', end = ' ')\n",
    "   for j in range(0, (n - i)):\n",
    "       print(' ', end = ' ')\n",
    "   for j in range(1, i + 1):\n",
    "       print('.', end = ' ')\n",
    "   for j in range(0, (n - i)):\n",
    "       print(' ', end = ' ')\n",
    "   for j in range(1, i + 1):\n",
    "       print('*', end = ' ')\n",
    "   print()\n",
    "\n",
    "\n",
    " for i in range(n - 1, 0, -1):\n",
    "   print(' ' * (n - i), end = ' ')\n",
    "   for j in range(1, i + 1):\n",
    "       print('*', end = ' ')\n",
    "   for j in range(0, (n - i)):\n",
    "       print(' ', end = ' ')\n",
    "   for j in range(i, 0, -1):\n",
    "       print('.', '', end = '')\n",
    "   for j in range(0, (n - i)):\n",
    "       print(' ', end = ' ')\n",
    "   for j in range(1, i + 1):\n",
    "       print('*', end = ' ')\n",
    "   for j in range(0, (n - i)):\n",
    "       print(' ', end = ' ')\n",
    "   for j in range(1, i + 1):\n",
    "       print('.', end = ' ')\n",
    "   for j in range(0, (n - i)):\n",
    "       print(' ', end = ' ')\n",
    "   for j in range(1, i + 1):\n",
    "       print('*', end = ' ')\n",
    "   print()\n",
    "\n",
    "\n",
    "rows = 9\n",
    "diamond(rows)"
   ]
  },
  {
   "cell_type": "markdown",
   "id": "f0093916-6f71-4aea-ae8d-9255ef233f82",
   "metadata": {},
   "source": [
    "## Mixed Pattern: Star and Dot `X`"
   ]
  },
  {
   "cell_type": "code",
   "execution_count": 317,
   "id": "a865af6a-fc75-4e05-9eb4-781170b32c95",
   "metadata": {},
   "outputs": [
    {
     "name": "stdout",
     "output_type": "stream",
     "text": [
      "  * * * * * * * *   . . . . . . . .   * * * * * * * *   . . . . . . . .   * * * * * * * * \n",
      "   * * * * * * *     . . . . . . .     * * * * * * *     . . . . . . .     * * * * * * * \n",
      "    * * * * * *       . . . . . .       * * * * * *       . . . . . .       * * * * * * \n",
      "     * * * * *         . . . . .         * * * * *         . . . . .         * * * * * \n",
      "      * * * *           . . . .           * * * *           . . . .           * * * * \n",
      "       * * *             . . .             * * *             . . .             * * * \n",
      "        * *               . .               * *               . .               * * \n",
      "         *                 .                 *                 .                 * \n",
      "                                                                                  \n",
      "         *                 .                 *                 .                 * \n",
      "        * *               . .               * *               . .               * * \n",
      "       * * *             . . .             * * *             . . .             * * * \n",
      "      * * * *           . . . .           * * * *           . . . .           * * * * \n",
      "     * * * * *         . . . . .         * * * * *         . . . . .         * * * * * \n",
      "    * * * * * *       . . . . . .       * * * * * *       . . . . . .       * * * * * * \n",
      "   * * * * * * *     . . . . . . .     * * * * * * *     . . . . . . .     * * * * * * * \n",
      "  * * * * * * * *   . . . . . . . .   * * * * * * * *   . . . . . . . .   * * * * * * * * \n",
      " * * * * * * * * * . . . . . . . . . * * * * * * * * * . . . . . . . . . * * * * * * * * * \n"
     ]
    }
   ],
   "source": [
    "def diamond(n):\n",
    "\n",
    " for i in range(0, n + 1):\n",
    "   print(' ' * (n - i), end = ' ')\n",
    "   for j in range(1, i + 1):\n",
    "       print('*', end = ' ')\n",
    "   for j in range(0, (n - i)):\n",
    "       print(' ', end = ' ')\n",
    "   for j in range(i, 0, -1):\n",
    "       print('.', '', end = '')\n",
    "   for j in range(0, (n - i)):\n",
    "       print(' ', end = ' ')\n",
    "   for j in range(1, i + 1):\n",
    "       print('*', end = ' ')\n",
    "   for j in range(0, (n - i)):\n",
    "       print(' ', end = ' ')\n",
    "   for j in range(1, i + 1):\n",
    "       print('.', end = ' ')\n",
    "   for j in range(0, (n - i)):\n",
    "       print(' ', end = ' ')\n",
    "   for j in range(1, i + 1):\n",
    "       print('*', end = ' ')\n",
    "   print()\n",
    "\n",
    "\n",
    "for i in range(n - 1, 0, -1):\n",
    "   print(' ' * (n - i), end = ' ')\n",
    "   for j in range(1, i + 1):\n",
    "       print('*', end = ' ')\n",
    "   for j in range(0, (n - i)):\n",
    "       print(' ', end = ' ')\n",
    "   for j in range(i, 0, -1):\n",
    "       print('.', '', end = '')\n",
    "   for j in range(0, (n - i)):\n",
    "       print(' ', end = ' ')\n",
    "   for j in range(1, i + 1):\n",
    "       print('*', end = ' ')\n",
    "   for j in range(0, (n - i)):\n",
    "       print(' ', end = ' ')\n",
    "   for j in range(1, i + 1):\n",
    "       print('.', end = ' ')\n",
    "   for j in range(0, (n - i)):\n",
    "       print(' ', end = ' ')\n",
    "   for j in range(1, i + 1):\n",
    "       print('*', end = ' ')\n",
    "   print()\n",
    "\n",
    "\n",
    "rows = 9\n",
    "diamond(rows)"
   ]
  },
  {
   "cell_type": "code",
   "execution_count": 295,
   "id": "01004052-b1f6-4380-9943-8a18b561b0b7",
   "metadata": {},
   "outputs": [
    {
     "name": "stdout",
     "output_type": "stream",
     "text": [
      "+                                 + +                                 + \n",
      "+ +                             + + + +                             + + \n",
      "+ + +                         + + + + + +                         + + + \n",
      "+ + + +                     + + + + + + + +                     + + + + \n",
      "+ + + + +                 + + + + + + + + + +                 + + + + + \n",
      "+ + + + + +             + + + + + + + + + + + +             + + + + + + \n",
      "+ + + + + + +         + + + + + + + + + + + + + +         + + + + + + + \n",
      "+ + + + + + + +     + + + + + + + + + + + + + + + +     + + + + + + + + \n",
      "+ + + + + + + + + + + + + + + + + + + + + + + + + + + + + + + + + + + + \n",
      "+ + + + + + + + + + + + + + + + + + + + + + + + + + + + + + + + + + + + \n",
      "+ + + + + + + +     + + + + + + + + + + + + + + + +     + + + + + + + + \n",
      "+ + + + + + +         + + + + + + + + + + + + + +         + + + + + + + \n",
      "+ + + + + +             + + + + + + + + + + + +             + + + + + + \n",
      "+ + + + +                 + + + + + + + + + +                 + + + + + \n",
      "+ + + +                     + + + + + + + +                     + + + + \n",
      "+ + +                         + + + + + +                         + + + \n",
      "+ +                             + + + +                             + + \n",
      "+                                 + +                                 + \n"
     ]
    }
   ],
   "source": [
    "def butterfly(n):\n",
    "\n",
    "   for i in range(1, n + 1):\n",
    "      for j in range(1, i + 1):\n",
    "          print('+', end = ' ')\n",
    "      for j in range(0, 2*(n - i)):\n",
    "          print(' ', end = ' ')\n",
    "      for j in range(i, 0, -1):\n",
    "          print('+', end = ' ')\n",
    "\n",
    "      for j in range(1, i + 1):\n",
    "          print('+', end = ' ')\n",
    "      for j in range(0, 2*(n - i)):\n",
    "          print(' ', end = ' ')\n",
    "      for j in range(i, 0, -1):\n",
    "          print('+', end = ' ')\n",
    "      print()\n",
    "\n",
    "\n",
    "   for i in range(n, 0, -1):\n",
    "      for j in range(1, i + 1):\n",
    "          print('+', end = ' ')\n",
    "      for j in range(0, 2*(n - i)):\n",
    "          print(' ', end = ' ')\n",
    "      for j in range(i, 0, -1):\n",
    "          print('+', end = ' ')\n",
    "\n",
    "      for j in range(1, i + 1):\n",
    "          print('+', end = ' ')\n",
    "      for j in range(0, 2*(n - i)):\n",
    "          print(' ', end = ' ')\n",
    "      for j in range(i, 0, -1):\n",
    "          print('+', end = ' ')\n",
    "      print()\n",
    "\n",
    "rows = 9\n",
    "butterfly(rows)"
   ]
  },
  {
   "cell_type": "code",
   "execution_count": 382,
   "id": "350a56f2-b5e4-4f14-9d5c-3e059c03c32c",
   "metadata": {},
   "outputs": [
    {
     "name": "stdout",
     "output_type": "stream",
     "text": [
      "+ + + + + + + + + + + + + + + + + + + + + + + + + + + + + + + + + + + + \n",
      "+ + + + + + + +     + + + + + + + + + + + + + + + +     + + + + + + + + \n",
      "+ + + + + + +         + + + + + + + + + + + + + +         + + + + + + + \n",
      "+ + + + + +             + + + + + + + + + + + +             + + + + + + \n",
      "+ + + + +                 + + + + + + + + + +                 + + + + + \n",
      "+ + + +                     + + + + + + + +                     + + + + \n",
      "+ + +                         + + + + + +                         + + + \n",
      "+ +                             + + + +                             + + \n",
      "+                                 + +                                 + \n",
      "+                                 + +                                 + \n",
      "+ +                             + + + +                             + + \n",
      "+ + +                         + + + + + +                         + + + \n",
      "+ + + +                     + + + + + + + +                     + + + + \n",
      "+ + + + +                 + + + + + + + + + +                 + + + + + \n",
      "+ + + + + +             + + + + + + + + + + + +             + + + + + + \n",
      "+ + + + + + +         + + + + + + + + + + + + + +         + + + + + + + \n",
      "+ + + + + + + +     + + + + + + + + + + + + + + + +     + + + + + + + + \n",
      "+ + + + + + + + + + + + + + + + + + + + + + + + + + + + + + + + + + + + \n"
     ]
    }
   ],
   "source": [
    "def butterfly(n):\n",
    "\n",
    "   for i in range(1, n + 1):\n",
    "      for j in range(1, i + 1):\n",
    "          print('+', end = ' ')\n",
    "      for j in range(0, 2*(n - i)):\n",
    "          print(' ', end = ' ')\n",
    "      for j in range(i, 0, -1):\n",
    "          print('+', end = ' ')\n",
    "\n",
    "      for j in range(1, i + 1):\n",
    "          print('+', end = ' ')\n",
    "      for j in range(0, 2*(n - i)):\n",
    "          print(' ', end = ' ')\n",
    "      for j in range(i, 0, -1):\n",
    "          print('+', end = ' ')\n",
    "      print()\n",
    "\n",
    "\n",
    "for i in range(n, 0, -1):\n",
    "      for j in range(1, i + 1):\n",
    "          print('+', end = ' ')\n",
    "      for j in range(0, 2*(n - i)):\n",
    "          print(' ', end = ' ')\n",
    "      for j in range(i, 0, -1):\n",
    "          print('+', end = ' ')\n",
    "\n",
    "      for j in range(1, i + 1):\n",
    "          print('+', end = ' ')\n",
    "      for j in range(0, 2*(n - i)):\n",
    "          print(' ', end = ' ')\n",
    "      for j in range(i, 0, -1):\n",
    "          print('+', end = ' ')\n",
    "      print()\n",
    "\n",
    "rows = 9\n",
    "butterfly(rows)"
   ]
  },
  {
   "cell_type": "code",
   "execution_count": 389,
   "id": "a0217296-f42f-46a1-8753-60b84ea50279",
   "metadata": {},
   "outputs": [
    {
     "name": "stdout",
     "output_type": "stream",
     "text": [
      " 1                 1                 1 \n",
      " 1 2              2 2              2 1 \n",
      " 1 2 3           3 3 3           3 2 1 \n",
      " 1 2 3 4        4 4 4 4        4 3 2 1 \n",
      " 1 2 3 4 5     5 5 5 5 5     5 4 3 2 1 \n",
      " 1 2 3 4 5 6  6 6 6 6 6 6  6 5 4 3 2 1 \n",
      " 1 2 3 4 5     5 5 5 5 5     5 4 3 2 1 \n",
      " 1 2 3 4        4 4 4 4        4 3 2 1 \n",
      " 1 2 3           3 3 3           3 2 1 \n",
      " 1 2              2 2              2 1 \n",
      " 1                 1                 1 \n"
     ]
    }
   ],
   "source": [
    "def triangle(n):\n",
    "\n",
    "    for i in range(1, n + 1):\n",
    "      print('' * (n-i), end = ' ')          # Adjust SPACES to make RIGHT-ANGLED TRIANGLE from left, PYRAMID, RIGHT-ANGLED TRIANGLE from right\n",
    "      for j in range(1, i + 1):\n",
    "            print(j, end = ' ')\n",
    "      print('   ' * (n - i), end = ' ')\n",
    "      for j in range(i, 0, -1):\n",
    "            print(i, end = ' ')\n",
    "      print('   ' * (n - i), end = ' ')\n",
    "      for j in range(i, 0, -1):\n",
    "            print(j, end = ' ')\n",
    "      \n",
    "      print()\n",
    "\n",
    "\n",
    "    for i in range(n - 1, 0, -1):\n",
    "      print('' * (n-i), end = ' ')          # Adjust SPACES to make RIGHT-ANGLED TRIANGLE from left, PYRAMID, RIGHT-ANGLED TRIANGLE from right\n",
    "      for j in range(1, i + 1):\n",
    "            print(j, end = ' ')\n",
    "      print('   ' * (n - i), end = ' ')\n",
    "      for j in range(i, 0, -1):\n",
    "            print(i, end = ' ')\n",
    "      print('   ' * (n - i), end = ' ')\n",
    "      for j in range(i, 0, -1):\n",
    "            print(j, end = ' ')\n",
    "      \n",
    "      print()\n",
    "\n",
    "\n",
    "row =  6           # int(input(\"Please enter the number of rows: \"))\n",
    "triangle(row)"
   ]
  },
  {
   "cell_type": "markdown",
   "id": "7e3ca9f1-90a4-47a1-96ab-9359060f5a04",
   "metadata": {},
   "source": [
    "## Mixed Patterns: Triangle"
   ]
  },
  {
   "cell_type": "code",
   "execution_count": 394,
   "id": "49802d1b-e1a0-4728-888d-c0e23bfbb984",
   "metadata": {},
   "outputs": [
    {
     "name": "stdout",
     "output_type": "stream",
     "text": [
      " 1 \n",
      " 1 2 \n",
      " 1 2 3 \n",
      " 1 2 3 4 \n",
      " 1 2 3 4 5 \n",
      "\n",
      "\n",
      " * \n",
      " * * \n",
      " * * * \n",
      " * * * * \n",
      " * * * * * \n",
      "\n",
      "\n",
      " A \n",
      " A B \n",
      " A B C \n",
      " A B C D \n",
      " A B C D E \n"
     ]
    }
   ],
   "source": [
    "def triangle(n):\n",
    "\n",
    "    for i in range(1, n + 1):\n",
    "      print('' * (n-i), end = ' ')          # Adjust SPACES to make RIGHT-ANGLED TRIANGLE from left, PYRAMID, RIGHT-ANGLED TRIANGLE from right\n",
    "      for j in range(1, i + 1):\n",
    "            print(j, end = ' ')\n",
    "      print()\n",
    "\n",
    "\n",
    "    print('\\n')\n",
    "\n",
    "\n",
    "    for i in range(1, n + 1):\n",
    "      print('' * (n-i), end = ' ')          # Adjust SPACES to make RIGHT-ANGLED TRIANGLE from left, PYRAMID, RIGHT-ANGLED TRIANGLE from right\n",
    "      for j in range(1, i + 1):\n",
    "            print(\"*\", end = ' ')\n",
    "      print()\n",
    "\n",
    "    \n",
    "    print('\\n')\n",
    "\n",
    "\n",
    "    for i in range(1, n + 1):\n",
    "      print('' * (n-i), end = ' ')          # Adjust SPACES to make RIGHT-ANGLED TRIANGLE from left, PYRAMID, RIGHT-ANGLED TRIANGLE from right\n",
    "      for j in range(1, i + 1):\n",
    "            print(chr(j + 64), end = ' ')\n",
    "      print()\n",
    "\n",
    "\n",
    "row =  5           # int(input(\"Please enter the number of rows: \"))\n",
    "triangle(row)"
   ]
  },
  {
   "cell_type": "markdown",
   "id": "5c18b29d-57da-4c6f-9b61-037d4c69b034",
   "metadata": {},
   "source": [
    "## Mixed Patterns: Pyramid"
   ]
  },
  {
   "cell_type": "code",
   "execution_count": 395,
   "id": "1204b570-e1a6-4c9a-821a-d3e777ea9dea",
   "metadata": {},
   "outputs": [
    {
     "name": "stdout",
     "output_type": "stream",
     "text": [
      "     1 \n",
      "    1 2 \n",
      "   1 2 3 \n",
      "  1 2 3 4 \n",
      " 1 2 3 4 5 \n",
      "\n",
      "\n",
      "     * \n",
      "    * * \n",
      "   * * * \n",
      "  * * * * \n",
      " * * * * * \n",
      "\n",
      "\n",
      "     A \n",
      "    A B \n",
      "   A B C \n",
      "  A B C D \n",
      " A B C D E \n"
     ]
    }
   ],
   "source": [
    "def triangle(n):\n",
    "\n",
    "    for i in range(1, n + 1):\n",
    "      print(' ' * (n-i), end = ' ')          # Adjust SPACES to make RIGHT-ANGLED TRIANGLE from left, PYRAMID, RIGHT-ANGLED TRIANGLE from right\n",
    "      for j in range(1, i + 1):\n",
    "            print(j, end = ' ')\n",
    "      print()\n",
    "\n",
    "\n",
    "    print('\\n')\n",
    "\n",
    "\n",
    "    for i in range(1, n + 1):\n",
    "      print(' ' * (n-i), end = ' ')          # Adjust SPACES to make RIGHT-ANGLED TRIANGLE from left, PYRAMID, RIGHT-ANGLED TRIANGLE from right\n",
    "      for j in range(1, i + 1):\n",
    "            print(\"*\", end = ' ')\n",
    "      print()\n",
    "\n",
    "    \n",
    "    print('\\n')\n",
    "\n",
    "\n",
    "    for i in range(1, n + 1):\n",
    "      print(' ' * (n-i), end = ' ')          # Adjust SPACES to make RIGHT-ANGLED TRIANGLE from left, PYRAMID, RIGHT-ANGLED TRIANGLE from right\n",
    "      for j in range(1, i + 1):\n",
    "            print(chr(j + 64), end = ' ')\n",
    "      print()\n",
    "\n",
    "\n",
    "row =  5           # int(input(\"Please enter the number of rows: \"))\n",
    "triangle(row)"
   ]
  },
  {
   "cell_type": "markdown",
   "id": "871db5ca-0970-4adb-8f70-8c2a65273046",
   "metadata": {},
   "source": [
    "## Mixed Patterns: Diamond"
   ]
  },
  {
   "cell_type": "code",
   "execution_count": 409,
   "id": "8e0d3650-8963-4c8a-be39-200743525714",
   "metadata": {},
   "outputs": [
    {
     "name": "stdout",
     "output_type": "stream",
     "text": [
      "     1 \n",
      "    1 2 \n",
      "   1 2 3 \n",
      "  1 2 3 4 \n",
      " 1 2 3 4 5 \n",
      "  1 2 3 4 \n",
      "   1 2 3 \n",
      "    1 2 \n",
      "     1 \n",
      "\n",
      "\n",
      "     * \n",
      "    * * \n",
      "   * * * \n",
      "  * * * * \n",
      " * * * * * \n",
      "  * * * * \n",
      "   * * * \n",
      "    * * \n",
      "     * \n",
      "\n",
      "\n",
      "     A \n",
      "    A B \n",
      "   A B C \n",
      "  A B C D \n",
      " A B C D E \n",
      "  A B C D \n",
      "   A B C \n",
      "    A B \n",
      "     A \n"
     ]
    }
   ],
   "source": [
    "def triangle(n):\n",
    "\n",
    "    for i in range(1, n + 1):\n",
    "      print(' ' * (n-i), end = ' ')          # Adjust SPACES to make RIGHT-ANGLED TRIANGLE from left, PYRAMID, RIGHT-ANGLED TRIANGLE from right\n",
    "      for j in range(1, i + 1):\n",
    "            print(j, end = ' ')\n",
    "      print()\n",
    "    \n",
    "    for i in range(n - 1, 0, -1):\n",
    "      print(' ' * (n-i), end = ' ')\n",
    "      for j in range(1, i + 1):\n",
    "            print(j, end = ' ')\n",
    "      print()\n",
    "\n",
    "    print('\\n')\n",
    "\n",
    "\n",
    "    for i in range(1, n + 1):\n",
    "      print(' ' * (n-i), end = ' ')          # Adjust SPACES to make RIGHT-ANGLED TRIANGLE from left, PYRAMID, RIGHT-ANGLED TRIANGLE from right\n",
    "      for j in range(1, i + 1):\n",
    "            print(\"*\", end = ' ')\n",
    "      print()\n",
    "    \n",
    "    for i in range(n - 1, 0, -1):\n",
    "      print(' ' * (n-i), end = ' ')\n",
    "      for j in range(1, i + 1):\n",
    "            print(\"*\", end = ' ')\n",
    "      print()    \n",
    "\n",
    "    \n",
    "    print('\\n')\n",
    "\n",
    "\n",
    "    for i in range(1, n + 1):\n",
    "      print(' ' * (n-i), end = ' ')          # Adjust SPACES to make RIGHT-ANGLED TRIANGLE from left, PYRAMID, RIGHT-ANGLED TRIANGLE from right\n",
    "      for j in range(1, i + 1):\n",
    "            print(chr(j + 64), end = ' ')\n",
    "      print()\n",
    "    \n",
    "    for i in range(n - 1, 0, -1):\n",
    "      print(' ' * (n-i), end = ' ')\n",
    "      for j in range(1, i + 1):\n",
    "            print(chr(j + 64), end = ' ')\n",
    "      print()\n",
    "\n",
    "\n",
    "row =  5           # int(input(\"Please enter the number of rows: \"))\n",
    "triangle(row)"
   ]
  },
  {
   "cell_type": "markdown",
   "id": "cab2039c-5455-4aa4-bac4-224bfd9b767b",
   "metadata": {},
   "source": [
    "## Mixed Patterns: Triangle"
   ]
  },
  {
   "cell_type": "code",
   "execution_count": 396,
   "id": "1199b6e5-24c5-4225-bfbc-374623f64bfa",
   "metadata": {},
   "outputs": [
    {
     "name": "stdout",
     "output_type": "stream",
     "text": [
      "         1 \n",
      "       1 2 \n",
      "     1 2 3 \n",
      "   1 2 3 4 \n",
      " 1 2 3 4 5 \n",
      "\n",
      "\n",
      "         * \n",
      "       * * \n",
      "     * * * \n",
      "   * * * * \n",
      " * * * * * \n",
      "\n",
      "\n",
      "         A \n",
      "       A B \n",
      "     A B C \n",
      "   A B C D \n",
      " A B C D E \n"
     ]
    }
   ],
   "source": [
    "def triangle(n):\n",
    "\n",
    "    for i in range(1, n + 1):\n",
    "      print('  ' * (n-i), end = ' ')          # Adjust SPACES to make RIGHT-ANGLED TRIANGLE from left, PYRAMID, RIGHT-ANGLED TRIANGLE from right\n",
    "      for j in range(1, i + 1):\n",
    "            print(j, end = ' ')\n",
    "      print()\n",
    "\n",
    "\n",
    "    print('\\n')\n",
    "\n",
    "\n",
    "    for i in range(1, n + 1):\n",
    "      print('  ' * (n-i), end = ' ')          # Adjust SPACES to make RIGHT-ANGLED TRIANGLE from left, PYRAMID, RIGHT-ANGLED TRIANGLE from right\n",
    "      for j in range(1, i + 1):\n",
    "            print(\"*\", end = ' ')\n",
    "      print()\n",
    "\n",
    "    \n",
    "    print('\\n')\n",
    "\n",
    "\n",
    "    for i in range(1, n + 1):\n",
    "      print('  ' * (n-i), end = ' ')          # Adjust SPACES to make RIGHT-ANGLED TRIANGLE from left, PYRAMID, RIGHT-ANGLED TRIANGLE from right\n",
    "      for j in range(1, i + 1):\n",
    "            print(chr(j + 64), end = ' ')\n",
    "      print()\n",
    "\n",
    "\n",
    "row =  5           # int(input(\"Please enter the number of rows: \"))\n",
    "triangle(row)"
   ]
  },
  {
   "cell_type": "markdown",
   "id": "239e04b5-ea9c-4d44-ba71-b69db0a31eb7",
   "metadata": {},
   "source": [
    "## Mixed Patterns: Butterfly"
   ]
  },
  {
   "cell_type": "code",
   "execution_count": 412,
   "id": "3b5cd96b-6952-4cd7-a1f7-7ea7f258790d",
   "metadata": {},
   "outputs": [
    {
     "name": "stdout",
     "output_type": "stream",
     "text": [
      " 1                  1 \n",
      " 1 2              2 1 \n",
      " 1 2 3          3 2 1 \n",
      " 1 2 3 4      4 3 2 1 \n",
      " 1 2 3 4 5  5 4 3 2 1 \n",
      " 1 2 3 4      4 3 2 1 \n",
      " 1 2 3          3 2 1 \n",
      " 1 2              2 1 \n",
      " 1                  1 \n",
      "\n",
      "\n",
      " *                  * \n",
      " * *              * * \n",
      " * * *          * * * \n",
      " * * * *      * * * * \n",
      " * * * * *  * * * * * \n",
      " * * * *      * * * * \n",
      " * * *          * * * \n",
      " * *              * * \n",
      " *                  * \n",
      "\n",
      "\n",
      " A                  A \n",
      " A B              B A \n",
      " A B C          C B A \n",
      " A B C D      D C B A \n",
      " A B C D E  E D C B A \n",
      " A B C D      D C B A \n",
      " A B C          C B A \n",
      " A B              B A \n",
      " A                  A \n"
     ]
    }
   ],
   "source": [
    "def triangle(n):\n",
    "\n",
    "    for i in range(1, n + 1):\n",
    "      print('' * (n-i), end = ' ')          # Adjust SPACES to make RIGHT-ANGLED TRIANGLE from left, PYRAMID, RIGHT-ANGLED TRIANGLE from right\n",
    "      for j in range(1, i + 1):\n",
    "            print(j, end = ' ')\n",
    "      print('    ' * (n-i), end = ' ')\n",
    "      for j in range(i, 0, -1):\n",
    "            print(j, end = ' ')\n",
    "      print()\n",
    "    \n",
    "    for i in range(n-1, 0, -1):\n",
    "      print('' * (n-i), end = ' ')\n",
    "      for j in range(1, i + 1):\n",
    "            print(j, end = ' ')\n",
    "      print('    ' * (n-i), end = ' ')\n",
    "      for j in range(i, 0, -1):\n",
    "            print(j, end = ' ')\n",
    "      print()\n",
    "    \n",
    "\n",
    "    print('\\n')\n",
    "\n",
    "\n",
    "    for i in range(1, n + 1):\n",
    "      print('' * (n-i), end = ' ')          # Adjust SPACES to make RIGHT-ANGLED TRIANGLE from left, PYRAMID, RIGHT-ANGLED TRIANGLE from right\n",
    "      for j in range(1, i + 1):\n",
    "            print(\"*\", end = ' ')\n",
    "      print('    ' * (n-i), end = ' ')\n",
    "      for j in range(i, 0, -1):\n",
    "            print(\"*\", end = ' ')\n",
    "      print()\n",
    "\n",
    "    for i in range(n-1, 0, -1):\n",
    "      print('' * (n-i), end = ' ')\n",
    "      for j in range(1, i + 1):\n",
    "            print(\"*\", end = ' ')\n",
    "      print('    ' * (n-i), end = ' ')\n",
    "      for j in range(i, 0, -1):\n",
    "            print(\"*\", end = ' ')\n",
    "      print()\n",
    "    \n",
    "    print('\\n')\n",
    "\n",
    "\n",
    "    for i in range(1, n + 1):\n",
    "      print('' * (n-i), end = ' ')          # Adjust SPACES to make RIGHT-ANGLED TRIANGLE from left, PYRAMID, RIGHT-ANGLED TRIANGLE from right\n",
    "      for j in range(1, i + 1):\n",
    "            print(chr(j + 64), end = ' ')\n",
    "      print('    ' * (n-i), end = ' ')\n",
    "      for j in range(i, 0, -1):\n",
    "            print(chr(j + 64), end = ' ')\n",
    "      print()\n",
    "\n",
    "    for i in range(n-1, 0, -1):\n",
    "      print('' * (n-i), end = ' ')\n",
    "      for j in range(1, i + 1):\n",
    "            print(chr(j + 64), end = ' ')\n",
    "      print('    ' * (n-i), end = ' ')\n",
    "      for j in range(i, 0, -1):\n",
    "            print(chr(j + 64), end = ' ')\n",
    "      print()\n",
    "\n",
    "\n",
    "row =  5           # int(input(\"Please enter the number of rows: \"))\n",
    "triangle(row)"
   ]
  },
  {
   "cell_type": "markdown",
   "id": "98520ad1-ed16-4592-98cd-5a399c4f9222",
   "metadata": {},
   "source": [
    "### Arithmetical Operations: Addition (+), Subtraction (-), Product (*), Division (/), Remainder (%), Quotient (//)"
   ]
  },
  {
   "cell_type": "code",
   "execution_count": 431,
   "id": "449e2309-c563-4de9-8bda-188c3e842865",
   "metadata": {},
   "outputs": [
    {
     "name": "stdin",
     "output_type": "stream",
     "text": [
      "Enter the number:  12\n",
      "Enter the number:  8\n"
     ]
    },
    {
     "name": "stdout",
     "output_type": "stream",
     "text": [
      "Sum 12.0 + 8.0 = 20.0\n",
      "Subtraction 12.0 - 8.0 = 4.0\n",
      "Product 12.0 * 8.0 = 96.0\n"
     ]
    }
   ],
   "source": [
    "x = float(input(\"Enter the number: \"))\n",
    "y = float(input(\"Enter the number: \"))\n",
    "z = x + y\n",
    "print(f\"Sum {x} + {y} = {z}\")\n",
    "\n",
    "a = x - y\n",
    "print(f\"Subtraction {x} - {y} = {a}\")\n",
    "\n",
    "b = x * y\n",
    "print(f\"Product {x} * {y} = {b}\")"
   ]
  },
  {
   "cell_type": "code",
   "execution_count": 427,
   "id": "5d657d24-b9d1-4899-85c5-a04aa2b59b1e",
   "metadata": {},
   "outputs": [
    {
     "name": "stdin",
     "output_type": "stream",
     "text": [
      "Enter the number:  57\n",
      "Enter the number:  13\n"
     ]
    },
    {
     "name": "stdout",
     "output_type": "stream",
     "text": [
      "Division: 57.0 / 13.0 = 4.38\n",
      "Remainder: 57.0 % 13.0 = 5.0\n",
      "Quotient: 57.0 // 13.0 = 4.0\n"
     ]
    }
   ],
   "source": [
    "x = float(input(\"Enter the number: \"))\n",
    "y = float(input(\"Enter the number: \"))\n",
    "\n",
    "if y == 0:\n",
    "    print(\"Error: Denominator should not be ZERO\")\n",
    "\n",
    "else:\n",
    "    z = x/y\n",
    "    print(f\"Division: {x} / {y} = {z:.2f}\")             # Used '.2f' to keep 2 digits after decimal\n",
    "\n",
    "    a = x%y\n",
    "    print(f\"Remainder: {x} % {y} = {a}\")\n",
    "\n",
    "    b = x//y\n",
    "    print(f\"Quotient: {x} // {y} = {b}\")"
   ]
  },
  {
   "cell_type": "markdown",
   "id": "12c3a63f-6026-4164-9759-acd17703e6c4",
   "metadata": {},
   "source": [
    "## Swap two Variables"
   ]
  },
  {
   "cell_type": "code",
   "execution_count": 434,
   "id": "35b7850e-96b8-4385-9653-574691709c3d",
   "metadata": {},
   "outputs": [
    {
     "name": "stdin",
     "output_type": "stream",
     "text": [
      "Enter the value of 1st Variable:  a\n",
      "Enter the value of 2nd Variable:  p\n"
     ]
    },
    {
     "name": "stdout",
     "output_type": "stream",
     "text": [
      "Original Values x = a, y = p\n",
      "Swapped Values x = p, y = a\n"
     ]
    }
   ],
   "source": [
    "x = input(\"Enter the value of 1st Variable: \")\n",
    "y = input(\"Enter the value of 2nd Variable: \")\n",
    "\n",
    "print(f\"Original Values x = {x}, y = {y}\")\n",
    "x, y = y, x\n",
    "\n",
    "print(f\"Swapped Values x = {x}, y = {y}\")"
   ]
  },
  {
   "cell_type": "markdown",
   "id": "67c0c358-9919-4979-b390-f3c17b8b2838",
   "metadata": {},
   "source": [
    "## Generate a random numbers"
   ]
  },
  {
   "cell_type": "code",
   "execution_count": 474,
   "id": "40228e67-4fa9-4e0d-9629-71dc0f08b3d7",
   "metadata": {},
   "outputs": [
    {
     "name": "stdout",
     "output_type": "stream",
     "text": [
      "Random Number = 16\n",
      "Random Number = 8\n",
      "Random Number = 154\n"
     ]
    }
   ],
   "source": [
    "import random\n",
    "x = random.randint(1, 100)              # Any single Random Number between 1 to 100\n",
    "\n",
    "y = random.randint(1, 10)               # Any single Random Number between 1 to 10\n",
    "\n",
    "z = random.randint(150, 200)            # Any single Random Number between 150 to 200\n",
    "\n",
    "print(f\"Random Number = {x}\")\n",
    "print(f\"Random Number = {y}\")\n",
    "print(f\"Random Number = {z}\")"
   ]
  },
  {
   "cell_type": "markdown",
   "id": "f473c7c6-81b3-4804-8185-b7d7d163f8df",
   "metadata": {},
   "source": [
    "# Display Calendar"
   ]
  },
  {
   "cell_type": "code",
   "execution_count": 473,
   "id": "585dae9f-fea1-471f-a8f5-45c8125d77b7",
   "metadata": {},
   "outputs": [
    {
     "name": "stdin",
     "output_type": "stream",
     "text": [
      "Enter year:  2024\n",
      "Enter month:  9\n"
     ]
    },
    {
     "name": "stdout",
     "output_type": "stream",
     "text": [
      "   September 2024\n",
      "Mo Tu We Th Fr Sa Su\n",
      "                   1\n",
      " 2  3  4  5  6  7  8\n",
      " 9 10 11 12 13 14 15\n",
      "16 17 18 19 20 21 22\n",
      "23 24 25 26 27 28 29\n",
      "30\n",
      "\n"
     ]
    }
   ],
   "source": [
    "import calendar\n",
    "year = int(input(\"Enter year: \"))\n",
    "month = int(input(\"Enter month: \"))\n",
    "cal = calendar.month(year, month)\n",
    "print(cal)"
   ]
  }
 ],
 "metadata": {
  "kernelspec": {
   "display_name": "Python 3 (ipykernel)",
   "language": "python",
   "name": "python3"
  },
  "language_info": {
   "codemirror_mode": {
    "name": "ipython",
    "version": 3
   },
   "file_extension": ".py",
   "mimetype": "text/x-python",
   "name": "python",
   "nbconvert_exporter": "python",
   "pygments_lexer": "ipython3",
   "version": "3.12.5"
  }
 },
 "nbformat": 4,
 "nbformat_minor": 5
}
